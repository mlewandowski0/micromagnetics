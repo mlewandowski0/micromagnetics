{
 "cells": [
  {
   "cell_type": "code",
   "execution_count": 3,
   "metadata": {},
   "outputs": [],
   "source": [
    "from demag_tensor import *\n",
    "from time import time\n",
    "import numpy as np\n",
    "import os\n",
    "\n",
    "def format_time(_time):\n",
    "    v = round(_time, 3)\n",
    "    return f\"{v//3600}h {(v % 3600)//60}m {round(v % 60, 3)}s\""
   ]
  },
  {
   "cell_type": "code",
   "execution_count": 3,
   "metadata": {},
   "outputs": [
    {
     "name": "stdout",
     "output_type": "stream",
     "text": [
      "Calculating the demagnetization tensor\n"
     ]
    },
    {
     "name": "stderr",
     "output_type": "stream",
     "text": [
      "d:\\PROJS\\micromagnetics\\prototyping\\demagnatization_tensor\\demag_tensor.py:33: RuntimeWarning: invalid value encountered in double_scalars\n",
      "  - z * y**2 / 2.0 * atan(x*z / (y * sqrt(x**2 + y**2 + z**2) + eps))    \\\n",
      "d:\\PROJS\\micromagnetics\\prototyping\\demagnatization_tensor\\demag_tensor.py:34: RuntimeWarning: invalid value encountered in double_scalars\n",
      "  - z * x**2 / 2.0 * atan(y*z / (x * sqrt(x**2 + y**2 + z**2) + eps))    \\\n"
     ]
    },
    {
     "name": "stdout",
     "output_type": "stream",
     "text": [
      "(199, 1, 1, 6)\n",
      "Cells : 100 ; time taken : 0.0h 0.0m 2.016s\n",
      "Calculating the demagnetization tensor\n",
      "(199, 3, 1, 6)\n",
      "Cells : 200 ; time taken : 0.0h 0.0m 6.076s\n",
      "Calculating the demagnetization tensor\n",
      "(199, 5, 1, 6)\n",
      "Cells : 300 ; time taken : 0.0h 0.0m 10.291s\n",
      "Calculating the demagnetization tensor\n",
      "(199, 7, 1, 6)\n",
      "Cells : 400 ; time taken : 0.0h 0.0m 13.99s\n",
      "Calculating the demagnetization tensor\n",
      "(199, 9, 1, 6)\n",
      "Cells : 500 ; time taken : 0.0h 0.0m 18.194s\n",
      "Calculating the demagnetization tensor\n",
      "(199, 11, 1, 6)\n",
      "Cells : 600 ; time taken : 0.0h 0.0m 21.763s\n",
      "Calculating the demagnetization tensor\n",
      "(199, 13, 1, 6)\n",
      "Cells : 700 ; time taken : 0.0h 0.0m 25.706s\n",
      "Calculating the demagnetization tensor\n",
      "(199, 15, 1, 6)\n",
      "Cells : 800 ; time taken : 0.0h 0.0m 29.81s\n",
      "Calculating the demagnetization tensor\n",
      "(199, 17, 1, 6)\n",
      "Cells : 900 ; time taken : 0.0h 0.0m 35.036s\n",
      "Calculating the demagnetization tensor\n",
      "(199, 19, 1, 6)\n",
      "Cells : 1000 ; time taken : 0.0h 0.0m 37.962s\n",
      "Calculating the demagnetization tensor\n",
      "(199, 21, 1, 6)\n",
      "Cells : 1100 ; time taken : 0.0h 0.0m 41.935s\n",
      "Calculating the demagnetization tensor\n",
      "(199, 23, 1, 6)\n",
      "Cells : 1200 ; time taken : 0.0h 0.0m 45.59s\n",
      "Calculating the demagnetization tensor\n",
      "(199, 25, 1, 6)\n",
      "Cells : 1300 ; time taken : 0.0h 0.0m 49.126s\n",
      "Calculating the demagnetization tensor\n",
      "(199, 27, 1, 6)\n",
      "Cells : 1400 ; time taken : 0.0h 0.0m 53.002s\n",
      "Calculating the demagnetization tensor\n",
      "(199, 29, 1, 6)\n",
      "Cells : 1500 ; time taken : 0.0h 0.0m 57.194s\n",
      "Calculating the demagnetization tensor\n",
      "(199, 31, 1, 6)\n",
      "Cells : 1600 ; time taken : 0.0h 1.0m 1.066s\n",
      "Calculating the demagnetization tensor\n",
      "(199, 33, 1, 6)\n",
      "Cells : 1700 ; time taken : 0.0h 1.0m 5.01s\n",
      "Calculating the demagnetization tensor\n",
      "(199, 35, 1, 6)\n",
      "Cells : 1800 ; time taken : 0.0h 1.0m 9.176s\n",
      "Calculating the demagnetization tensor\n",
      "(199, 37, 1, 6)\n",
      "Cells : 1900 ; time taken : 0.0h 1.0m 13.418s\n",
      "Calculating the demagnetization tensor\n",
      "(199, 39, 1, 6)\n",
      "Cells : 2000 ; time taken : 0.0h 1.0m 17.486s\n",
      "Calculating the demagnetization tensor\n",
      "(199, 41, 1, 6)\n",
      "Cells : 2100 ; time taken : 0.0h 1.0m 22.541s\n",
      "Calculating the demagnetization tensor\n",
      "(199, 43, 1, 6)\n",
      "Cells : 2200 ; time taken : 0.0h 1.0m 25.362s\n",
      "Calculating the demagnetization tensor\n",
      "(199, 45, 1, 6)\n",
      "Cells : 2300 ; time taken : 0.0h 1.0m 29.407s\n",
      "Calculating the demagnetization tensor\n",
      "(199, 47, 1, 6)\n",
      "Cells : 2400 ; time taken : 0.0h 1.0m 33.538s\n",
      "Calculating the demagnetization tensor\n",
      "(199, 49, 1, 6)\n",
      "Cells : 2500 ; time taken : 0.0h 10.0m 48.358s\n",
      "Calculating the demagnetization tensor\n",
      "(199, 51, 1, 6)\n",
      "Cells : 2600 ; time taken : 0.0h 1.0m 44.909s\n",
      "Calculating the demagnetization tensor\n",
      "(199, 53, 1, 6)\n",
      "Cells : 2700 ; time taken : 0.0h 1.0m 48.233s\n",
      "Calculating the demagnetization tensor\n",
      "(199, 55, 1, 6)\n",
      "Cells : 2800 ; time taken : 0.0h 1.0m 52.245s\n",
      "Calculating the demagnetization tensor\n",
      "(199, 57, 1, 6)\n",
      "Cells : 2900 ; time taken : 0.0h 1.0m 58.452s\n",
      "Calculating the demagnetization tensor\n",
      "(199, 59, 1, 6)\n",
      "Cells : 3000 ; time taken : 0.0h 2.0m 1.336s\n",
      "Calculating the demagnetization tensor\n",
      "(199, 61, 1, 6)\n",
      "Cells : 3100 ; time taken : 0.0h 2.0m 5.489s\n",
      "Calculating the demagnetization tensor\n",
      "(199, 63, 1, 6)\n",
      "Cells : 3200 ; time taken : 0.0h 2.0m 13.398s\n",
      "Calculating the demagnetization tensor\n",
      "(199, 65, 1, 6)\n",
      "Cells : 3300 ; time taken : 0.0h 2.0m 19.026s\n",
      "Calculating the demagnetization tensor\n",
      "(199, 67, 1, 6)\n",
      "Cells : 3400 ; time taken : 0.0h 2.0m 16.833s\n",
      "Calculating the demagnetization tensor\n",
      "(199, 69, 1, 6)\n",
      "Cells : 3500 ; time taken : 0.0h 2.0m 20.344s\n",
      "Calculating the demagnetization tensor\n",
      "(199, 71, 1, 6)\n",
      "Cells : 3600 ; time taken : 0.0h 2.0m 30.949s\n",
      "Calculating the demagnetization tensor\n",
      "(199, 73, 1, 6)\n",
      "Cells : 3700 ; time taken : 0.0h 2.0m 32.387s\n",
      "Calculating the demagnetization tensor\n",
      "(199, 75, 1, 6)\n",
      "Cells : 3800 ; time taken : 0.0h 2.0m 40.037s\n",
      "Calculating the demagnetization tensor\n",
      "(199, 77, 1, 6)\n",
      "Cells : 3900 ; time taken : 0.0h 2.0m 43.934s\n",
      "Calculating the demagnetization tensor\n",
      "(199, 79, 1, 6)\n",
      "Cells : 4000 ; time taken : 0.0h 2.0m 45.596s\n",
      "Calculating the demagnetization tensor\n",
      "(199, 81, 1, 6)\n",
      "Cells : 4100 ; time taken : 0.0h 2.0m 50.126s\n",
      "Calculating the demagnetization tensor\n",
      "(199, 83, 1, 6)\n",
      "Cells : 4200 ; time taken : 0.0h 2.0m 57.088s\n",
      "Calculating the demagnetization tensor\n",
      "(199, 85, 1, 6)\n",
      "Cells : 4300 ; time taken : 0.0h 3.0m 3.803s\n",
      "Calculating the demagnetization tensor\n",
      "(199, 87, 1, 6)\n",
      "Cells : 4400 ; time taken : 0.0h 3.0m 3.397s\n",
      "Calculating the demagnetization tensor\n",
      "(199, 89, 1, 6)\n",
      "Cells : 4500 ; time taken : 0.0h 3.0m 2.272s\n",
      "Calculating the demagnetization tensor\n",
      "(199, 91, 1, 6)\n",
      "Cells : 4600 ; time taken : 0.0h 2.0m 58.953s\n",
      "Calculating the demagnetization tensor\n",
      "(199, 93, 1, 6)\n",
      "Cells : 4700 ; time taken : 0.0h 3.0m 9.506s\n",
      "Calculating the demagnetization tensor\n",
      "(199, 95, 1, 6)\n",
      "Cells : 4800 ; time taken : 0.0h 3.0m 15.465s\n",
      "Calculating the demagnetization tensor\n",
      "(199, 97, 1, 6)\n",
      "Cells : 4900 ; time taken : 0.0h 3.0m 18.074s\n",
      "Calculating the demagnetization tensor\n",
      "(199, 99, 1, 6)\n",
      "Cells : 5000 ; time taken : 0.0h 3.0m 23.12s\n"
     ]
    }
   ],
   "source": [
    "times = []\n",
    "for i in range(1, 51):\n",
    "    start = time()\n",
    "    calculate_demag_tensor((100, i, 1), (1e-9, 1e-9, 1e-9))\n",
    "    times.append(start)\n",
    "    time_taken = time() - start\n",
    "    print(f\"Cells : {100 * i} ; time taken : {format_time(time_taken)}\")"
   ]
  },
  {
   "cell_type": "code",
   "execution_count": 3,
   "metadata": {},
   "outputs": [
    {
     "name": "stdout",
     "output_type": "stream",
     "text": [
      "Calculating the demagnetization tensor\n"
     ]
    },
    {
     "name": "stderr",
     "output_type": "stream",
     "text": [
      "d:\\PROJS\\micromagnetics\\prototyping\\demagnatization_tensor\\demag_tensor.py:33: RuntimeWarning: invalid value encountered in double_scalars\n",
      "  - z * y**2 / 2.0 * atan(x*z / (y * sqrt(x**2 + y**2 + z**2) + eps))    \\\n",
      "d:\\PROJS\\micromagnetics\\prototyping\\demagnatization_tensor\\demag_tensor.py:34: RuntimeWarning: invalid value encountered in double_scalars\n",
      "  - z * x**2 / 2.0 * atan(y*z / (x * sqrt(x**2 + y**2 + z**2) + eps))    \\\n"
     ]
    },
    {
     "name": "stdout",
     "output_type": "stream",
     "text": [
      "(199, 149, 1, 6)\n",
      "Cells : 2500 ; time taken : 0.0h 5.0m 3.705s\n"
     ]
    }
   ],
   "source": [
    "start = time()\n",
    "calculate_demag_tensor((100, 75, 1), (1e-9, 1e-9, 1e-9))\n",
    "time_taken = time() - start\n",
    "print(f\"Cells : {100 * 25} ; time taken : {format_time(time_taken)}\")"
   ]
  },
  {
   "cell_type": "code",
   "execution_count": 7,
   "metadata": {},
   "outputs": [
    {
     "name": "stdout",
     "output_type": "stream",
     "text": [
      "Calculating the demagnetization tensor\n",
      "(199, 19, 1, 6)\n",
      "Cells : 1000 ; time taken : 0.0h 0.0m 38.705s\n"
     ]
    }
   ],
   "source": [
    "eps = 1e-16\n",
    "for i in [10]:\n",
    "    start = time()\n",
    "    calculate_demag_tensor((100, i, 1), (1e-9, 1e-9, 1e-9), demag_tensor_file = os.path.join(\"demag_calcs\", f\"demag_tensor_({100},{i},{1}).npy\"))\n",
    "    time_taken = time() - start\n",
    "    print(f\"Cells : {100 * i} ; time taken : {format_time(time_taken)}\")"
   ]
  },
  {
   "cell_type": "code",
   "execution_count": null,
   "metadata": {},
   "outputs": [],
   "source": []
  },
  {
   "cell_type": "code",
   "execution_count": 2,
   "metadata": {},
   "outputs": [],
   "source": [
    "# references : \n",
    "# https://agupubs.onlinelibrary.wiley.com/doi/epdf/10.1029/93JB00694\n",
    "# https://arxiv.org/pdf/1411.7188.pdf\n",
    "# \n",
    "#\n",
    "# fidimag : compute_demag_tensors_2dpbc\n",
    "\n",
    "import numpy as np\n",
    "from math import asinh, atan, sqrt, pi\n",
    "\n",
    "# a very small number\n",
    "eps = 1e-15\n",
    "n     = (100, 25, 1)\n",
    "dx    = (5e-9, 5e-9, 3e-9)\n",
    "demag_tensor_file = \"demag_tensor.npy\"\n",
    "\n",
    "# newell f\n",
    "def _f(p):\n",
    "  #print(type(p))\n",
    "  x, y, z = abs(p[0]), abs(p[1]), abs(p[2])\n",
    "  return + y / 2.0 * (z**2 - x**2) * asinh(y / (sqrt(x**2 + z**2) + eps)) \\\n",
    "         + z / 2.0 * (y**2 - x**2) * asinh(z / (sqrt(x**2 + y**2) + eps)) \\\n",
    "         - x*y*z * atan(y*z / (x * sqrt(x**2 + y**2 + z**2) + eps))       \\\n",
    "         + 1.0 / 6.0 * (2*x**2 - y**2 - z**2) * sqrt(x**2 + y**2 + z**2)\n",
    "\n",
    "# newell g\n",
    "def _g(p):\n",
    "  x, y, z = p[0], p[1], abs(p[2])\n",
    "  return + x*y*z * asinh(z / (sqrt(x**2 + y**2) + eps))                         \\\n",
    "         + y / 6.0 * (3.0 * z**2 - y**2) * asinh(x / (sqrt(y**2 + z**2) + eps)) \\\n",
    "         + x / 6.0 * (3.0 * z**2 - x**2) * asinh(y / (sqrt(x**2 + z**2) + eps)) \\\n",
    "         - z**3 / 6.0 * atan(x*y / (z * sqrt(x**2 + y**2 + z**2) + eps))        \\\n",
    "         - z * y**2 / 2.0 * atan(x*z / (y * sqrt(x**2 + y**2 + z**2) + eps))    \\\n",
    "         - z * x**2 / 2.0 * atan(y*z / (x * sqrt(x**2 + y**2 + z**2) + eps))    \\\n",
    "         - x*y * sqrt(x**2 + y**2 + z**2) / 3.0\n",
    "\n",
    "\n",
    "# demag tensor setup\n",
    "def set_n_demag(c, permute, func, n_demag, dx):\n",
    "  it = np.nditer(n_demag[:,:,:,c], flags=['multi_index'], op_flags=['writeonly'])\n",
    "  while not it.finished:\n",
    "    value = 0.0\n",
    "    for i in np.rollaxis(np.indices((2,)*6), 0, 7).reshape(64, 6):\n",
    "      idx = list(map(lambda k: (it.multi_index[k] + n[k] - 1) % (2*n[k] - 1) - n[k] + 1, range(3)))\n",
    "      value += (-1)**sum(i) * func(list(map(lambda j: (idx[j] + i[j] - i[j+3]) * dx[j], permute)))\n",
    "    it[0] = - value / (4 * pi * np.prod(dx))\n",
    "    it.iternext()\n",
    "\n",
    "def identity(p):\n",
    "    return 0\n",
    "\n",
    "def calculate_demag_tensor(n, dx):\n",
    "    print(\"Calculating the demagnetization tensor\")\n",
    "    n_demag = np.zeros([2*i-1 for i in n] + [6])\n",
    "\n",
    "    for i, t in enumerate(((f,0,1,2),(g,0,1,2),(g,0,2,1),(f,1,2,0),(g,1,2,0),(f,2,0,1))):\n",
    "        set_n_demag(i, t[1:], t[0], n_demag=n_demag, dx=dx)\n",
    "    np.save(demag_tensor_file, n_demag)"
   ]
  },
  {
   "cell_type": "code",
   "execution_count": 8,
   "metadata": {},
   "outputs": [
    {
     "name": "stdout",
     "output_type": "stream",
     "text": [
      "Calculating the demagnetization tensor\n",
      "Took 47.010547161102295 s\n"
     ]
    }
   ],
   "source": [
    "n = (125, 25, 1)\n",
    "dx = (1e-9, 1e-9, 1e-9)\n",
    "t = time()\n",
    "\n",
    "f = identity\n",
    "g = identity\n",
    "\n",
    "ts = calculate_demag_tensor(n ,dx)\n",
    "print(f\"Took {time() - t} s\")"
   ]
  },
  {
   "cell_type": "code",
   "execution_count": 9,
   "metadata": {
    "collapsed": false
   },
   "outputs": [
    {
     "name": "stdout",
     "output_type": "stream",
     "text": [
      "Calculating the demagnetization tensor\n",
      "Took 117.80557084083557 s\n"
     ]
    }
   ],
   "source": [
    "f = _f\n",
    "g = _g\n",
    "ts = calculate_demag_tensor(n, dx)\n",
    "print(f\"Took {time() - t} s\")"
   ]
  },
  {
   "cell_type": "code",
   "execution_count": 3,
   "metadata": {},
   "outputs": [
    {
     "name": "stdout",
     "output_type": "stream",
     "text": [
      "[0 0 0 0 0 0]\n",
      "[0 0 0 0 0 1]\n",
      "[0 0 0 0 1 0]\n",
      "[0 0 0 0 1 1]\n",
      "[0 0 0 1 0 0]\n",
      "[0 0 0 1 0 1]\n",
      "[0 0 0 1 1 0]\n",
      "[0 0 0 1 1 1]\n",
      "[0 0 1 0 0 0]\n",
      "[0 0 1 0 0 1]\n",
      "[0 0 1 0 1 0]\n",
      "[0 0 1 0 1 1]\n",
      "[0 0 1 1 0 0]\n",
      "[0 0 1 1 0 1]\n",
      "[0 0 1 1 1 0]\n",
      "[0 0 1 1 1 1]\n",
      "[0 1 0 0 0 0]\n",
      "[0 1 0 0 0 1]\n",
      "[0 1 0 0 1 0]\n",
      "[0 1 0 0 1 1]\n",
      "[0 1 0 1 0 0]\n",
      "[0 1 0 1 0 1]\n",
      "[0 1 0 1 1 0]\n",
      "[0 1 0 1 1 1]\n",
      "[0 1 1 0 0 0]\n",
      "[0 1 1 0 0 1]\n",
      "[0 1 1 0 1 0]\n",
      "[0 1 1 0 1 1]\n",
      "[0 1 1 1 0 0]\n",
      "[0 1 1 1 0 1]\n",
      "[0 1 1 1 1 0]\n",
      "[0 1 1 1 1 1]\n",
      "[1 0 0 0 0 0]\n",
      "[1 0 0 0 0 1]\n",
      "[1 0 0 0 1 0]\n",
      "[1 0 0 0 1 1]\n",
      "[1 0 0 1 0 0]\n",
      "[1 0 0 1 0 1]\n",
      "[1 0 0 1 1 0]\n",
      "[1 0 0 1 1 1]\n",
      "[1 0 1 0 0 0]\n",
      "[1 0 1 0 0 1]\n",
      "[1 0 1 0 1 0]\n",
      "[1 0 1 0 1 1]\n",
      "[1 0 1 1 0 0]\n",
      "[1 0 1 1 0 1]\n",
      "[1 0 1 1 1 0]\n",
      "[1 0 1 1 1 1]\n",
      "[1 1 0 0 0 0]\n",
      "[1 1 0 0 0 1]\n",
      "[1 1 0 0 1 0]\n",
      "[1 1 0 0 1 1]\n",
      "[1 1 0 1 0 0]\n",
      "[1 1 0 1 0 1]\n",
      "[1 1 0 1 1 0]\n",
      "[1 1 0 1 1 1]\n",
      "[1 1 1 0 0 0]\n",
      "[1 1 1 0 0 1]\n",
      "[1 1 1 0 1 0]\n",
      "[1 1 1 0 1 1]\n",
      "[1 1 1 1 0 0]\n",
      "[1 1 1 1 0 1]\n",
      "[1 1 1 1 1 0]\n",
      "[1 1 1 1 1 1]\n"
     ]
    }
   ],
   "source": [
    "for i in np.rollaxis(np.indices((2,)*6), 0, 7).reshape(64, 6):\n",
    "    print(i)"
   ]
  },
  {
   "cell_type": "code",
   "execution_count": null,
   "metadata": {
    "collapsed": false
   },
   "outputs": [],
   "source": []
  }
 ],
 "metadata": {
  "kernelspec": {
   "display_name": "Python 3",
   "language": "python",
   "name": "python3"
  },
  "language_info": {
   "codemirror_mode": {
    "name": "ipython",
    "version": 3
   },
   "file_extension": ".py",
   "mimetype": "text/x-python",
   "name": "python",
   "nbconvert_exporter": "python",
   "pygments_lexer": "ipython3",
   "version": "3.9.13"
  },
  "orig_nbformat": 4
 },
 "nbformat": 4,
 "nbformat_minor": 2
}
