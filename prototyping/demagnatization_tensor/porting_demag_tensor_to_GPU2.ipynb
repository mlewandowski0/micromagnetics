{
 "cells": [
  {
   "cell_type": "code",
   "execution_count": 2,
   "metadata": {
    "collapsed": true
   },
   "outputs": [],
   "source": [
    "import os\n",
    "os.environ['NUMBA_ENABLE_CUDASIM'] = \"1\""
   ]
  },
  {
   "cell_type": "markdown",
   "source": [
    "# playing with porting to CUDA"
   ],
   "metadata": {
    "collapsed": false
   }
  },
  {
   "cell_type": "code",
   "execution_count": 31,
   "outputs": [],
   "source": [
    "import numba.cuda as cuda\n",
    "import numba as nb\n",
    "import numpy as np\n",
    "import math\n",
    "from math import asinh, sqrt, atan\n",
    "from time import time\n",
    "\n",
    "eps = 1e-18\n",
    "\n",
    "# newell f\n",
    "def f(p):\n",
    "  #print(type(p))\n",
    "  x, y, z = abs(p[0]), abs(p[1]), abs(p[2])\n",
    "  return + y / 2.0 * (z**2 - x**2) * asinh(y / (sqrt(x**2 + z**2) + eps)) \\\n",
    "         + z / 2.0 * (y**2 - x**2) * asinh(z / (sqrt(x**2 + y**2) + eps)) \\\n",
    "         - x*y*z * atan(y*z / (x * sqrt(x**2 + y**2 + z**2) + eps))       \\\n",
    "         + 1.0 / 6.0 * (2*x**2 - y**2 - z**2) * sqrt(x**2 + y**2 + z**2)\n",
    "\n",
    "# newell g\n",
    "def g(p):\n",
    "  x, y, z = p[0], p[1], abs(p[2])\n",
    "  return + x*y*z * asinh(z / (sqrt(x**2 + y**2) + eps))                         \\\n",
    "         + y / 6.0 * (3.0 * z**2 - y**2) * asinh(x / (sqrt(y**2 + z**2) + eps)) \\\n",
    "         + x / 6.0 * (3.0 * z**2 - x**2) * asinh(y / (sqrt(x**2 + z**2) + eps)) \\\n",
    "         - z**3 / 6.0 * atan(x*y / (z * sqrt(x**2 + y**2 + z**2) + eps))        \\\n",
    "         - z * y**2 / 2.0 * atan(x*z / (y * sqrt(x**2 + y**2 + z**2) + eps))    \\\n",
    "         - z * x**2 / 2.0 * atan(y*z / (x * sqrt(x**2 + y**2 + z**2) + eps))    \\\n",
    "         - x*y * sqrt(x**2 + y**2 + z**2) / 3.0\n",
    "\n",
    "\n",
    "from math import pi\n",
    "from time import time\n",
    "\n",
    "_file = open(\"orig.txt\", \"w\")\n",
    "# demag tensor setup\n",
    "def set_n_demag_orig(c, permute, func, n_demag, dx):\n",
    "  it = np.nditer(n_demag[:,:,:,c], flags=['multi_index'], op_flags=['writeonly'])\n",
    "  #_file.write(\"-\"*64 + \"\\n\")\n",
    "  while not it.finished:\n",
    "    value = 0.0\n",
    "    for i in np.rollaxis(np.indices((2,)*6), 0, 7).reshape(64, 6):\n",
    "      idx = list(map(lambda k: (it.multi_index[k] + n[k] - 1) % (2*n[k] - 1) - n[k] + 1, range(3)))\n",
    "      vec = list(map(lambda j: (idx[j] + i[j] - i[j+3]) * dx[j], permute))\n",
    "      #_file.write(f\"{i}\\t\\t{vec}\\t\\t\\t{-1**sum(i)}\\t\\t\\t{-1 ** sum(i) * func((vec[0], vec[1], vec[2]))}\\n\")\n",
    "      value += (-1)**sum(i) * func((vec[0], vec[1], vec[2]))\n",
    "      #_file.write(f\"v = {v}, value = {value}\\n\")\n",
    "      #_file.write(f\"{i} : {(-1)**sum(i)}\\n\")\n",
    "    it[0] = - value / (4 * pi * np.prod(dx))\n",
    "    #_file.write(f\"{4 * pi * np.prod(dx)}\\n\")\n",
    "    #_file.write(f\"arr[{it.multi_index}]={it[0]}\\n\")\n",
    "    #_file.write(\"-\"*64 + \"\\n\")\n",
    "    it.iternext()\n",
    "\n",
    "\n",
    "def calculate_demag_tensor_orig(n, dx):\n",
    "    print(\"Calculating the demagnetization tensor\")\n",
    "    n_demag = np.zeros([2*i-1 for i in n] + [6])\n",
    "\n",
    "    for i, t in enumerate(((f,0,1,2),(g,0,1,2),(g,0,2,1),(f,1,2,0),(g,1,2,0),(f,2,0,1))):\n",
    "        set_n_demag_orig(i, t[1:], t[0], n_demag=n_demag, dx=dx)\n",
    "    return n_demag"
   ],
   "metadata": {
    "collapsed": false
   }
  },
  {
   "cell_type": "code",
   "execution_count": 32,
   "outputs": [
    {
     "name": "stdout",
     "output_type": "stream",
     "text": [
      "Calculating the demagnetization tensor\n",
      "number of cells : 2500\n",
      "calculated demag tensor in : 99.62391185760498\n"
     ]
    }
   ],
   "source": [
    "t = time()\n",
    "n     = (100, 25, 1)\n",
    "dx    = (5e-9, 5e-9, 3e-9)\n",
    "\n",
    "f = f_orig\n",
    "g = g_orig\n",
    "tensor_original = calculate_demag_tensor_orig(n ,dx)\n",
    "print(f\"number of cells : {np.prod(n)}\")\n",
    "print(f\"calculated demag tensor in : {time() - t}\")\n",
    "_file.close()"
   ],
   "metadata": {
    "collapsed": false
   }
  },
  {
   "cell_type": "code",
   "execution_count": 29,
   "outputs": [],
   "source": [
    "np.save(\"demag_tensor.npy\",tensor_original)"
   ],
   "metadata": {
    "collapsed": false
   }
  },
  {
   "cell_type": "code",
   "execution_count": 33,
   "outputs": [],
   "source": [
    "true = np.load(\"demag_tensor_orig.npy\")"
   ],
   "metadata": {
    "collapsed": false
   }
  },
  {
   "cell_type": "code",
   "execution_count": 51,
   "outputs": [
    {
     "name": "stdout",
     "output_type": "stream",
     "text": [
      "how many cells : 2500\n",
      "Calculating the demagnetization tensor\n",
      "(199, 49, 1, 6)\n",
      "Took 1.8777172565460205 s\n"
     ]
    },
    {
     "data": {
      "text/plain": "5.036521025943494e-12"
     },
     "execution_count": 51,
     "metadata": {},
     "output_type": "execute_result"
    }
   ],
   "source": [
    "# newell f\n",
    "#@cuda.jit\n",
    "\n",
    "eps=1e-18\n",
    "PI = pi\n",
    "\n",
    "_file = open(\"cuda_out.txt\", \"w\")\n",
    "\n",
    "@cuda.jit\n",
    "def f_cuda(p0, p1, p2):\n",
    "  #print(type(p))\n",
    "  x, y, z = abs(p0), abs(p1), abs(p2)\n",
    "  return + y / 2.0 * (z**2 - x**2) * asinh(y / (sqrt(x**2 + z**2) + eps)) \\\n",
    "         + z / 2.0 * (y**2 - x**2) * asinh(z / (sqrt(x**2 + y**2) + eps)) \\\n",
    "         - x*y*z * atan(y*z / (x * sqrt(x**2 + y**2 + z**2) + eps))       \\\n",
    "         + 1.0 / 6.0 * (2*x**2 - y**2 - z**2) * sqrt(x**2 + y**2 + z**2)\n",
    "\n",
    "# newell g\n",
    "@cuda.jit\n",
    "def g_cuda(p0, p1, p2):\n",
    "  x, y, z = p0, p1, abs(p2)\n",
    "  return + x*y*z * asinh(z / (sqrt(x**2 + y**2) + eps))                         \\\n",
    "         + y / 6.0 * (3.0 * z**2 - y**2) * asinh(x / (sqrt(y**2 + z**2) + eps)) \\\n",
    "         + x / 6.0 * (3.0 * z**2 - x**2) * asinh(y / (sqrt(x**2 + z**2) + eps)) \\\n",
    "         - z**3 / 6.0 * atan(x*y / (z * sqrt(x**2 + y**2 + z**2) + eps))        \\\n",
    "         - z * y**2 / 2.0 * atan(x*z / (y * sqrt(x**2 + y**2 + z**2) + eps))    \\\n",
    "         - z * x**2 / 2.0 * atan(y*z / (x * sqrt(x**2 + y**2 + z**2) + eps))    \\\n",
    "         - x*y * sqrt(x**2 + y**2 + z**2) / 3.0\n",
    "@cuda.jit\n",
    "def demag_calc_gpu(array, idxes, n, permute, dx, _func, idx_table):\n",
    "    x_idx, y_idx, z_idx = cuda.grid(3)\n",
    "    if x_idx < array.shape[0] and y_idx < array.shape[1] and z_idx < array.shape[2]:\n",
    "        #print(x_idx, y_idx, z_idx)\n",
    "        idx = idx_table[x_idx, y_idx, z_idx,:]\n",
    "        value = 0\n",
    "        i = 0\n",
    "        #_file.write(\"-\"*64 + \"\\n\")\n",
    "        #_file.write(f\"x,y,z = {(x_idx, y_idx,z_idx)}\")\n",
    "        while i < 64:\n",
    "            idx[0] = (x_idx + n[0] - 1) % (2*n[0] - 1) - n[0] + 1\n",
    "            idx[1] = (y_idx + n[1] - 1) % (2*n[1] - 1) - n[1] + 1\n",
    "            idx[2] = (z_idx + n[2] - 1) % (2*n[2] - 1) - n[2] + 1\n",
    "\n",
    "\n",
    "            x = (idx[permute[0]] + idxes[i][permute[0]] - idxes[i][permute[0]+3]) * dx[permute[0]]\n",
    "            y = (idx[permute[1]] + idxes[i][permute[1]] - idxes[i][permute[1]+3]) * dx[permute[1]]\n",
    "            z = (idx[permute[2]] + idxes[i][permute[2]] - idxes[i][permute[2]+3]) * dx[permute[2]]\n",
    "\n",
    "            sign = (-1)**(idxes[i][0] + idxes[i][1] + idxes[i][2] + idxes[i][3] + idxes[i][4] + idxes[i][5])\n",
    "            v = 0\n",
    "            if _func[0] == 0:\n",
    "                #_file.write(f\"{list(idxes[i])}\\t\\t{(x,y,z)}\\t\\t\\t{-1**sum(idxes[i])}\\t\\t\\t{sign * f_cuda(x,y,z)}\\n\")\n",
    "                #print(type(f_cuda(x,y,z)))\n",
    "                value += sign * f_cuda(x,y,z)\n",
    "            else:\n",
    "                #_file.write(f\"{list(idxes[i])}\\t\\t{(x,y,z)}\\t\\t\\t{-1**sum(idxes[i])}\\t\\t\\t{sign * g_cuda(x,y,z)}\\n\")\n",
    "                #print(type(g_cuda(x,y,z)))\n",
    "                value += sign * g_cuda(x,y,z)\n",
    "            #_file.write(f\"{list(idxes[i])} {sign}\\n\")\n",
    "            #_file.write(f\"v = {v}, val = {value}\\n\")\n",
    "\n",
    "            i += 1\n",
    "        div = 4 * PI * dx[0] * dx[1] * dx[2]\n",
    "        array[x_idx,y_idx,z_idx] = - value / div\n",
    "        #_file.write(f\"{div}\\n\")\n",
    "        #_file.write(f\"arr[{x_idx},{y_idx},{z_idx}] = {array[x_idx, y_idx, z_idx]}\\n\")\n",
    "        #_file.write(\"-\"*64 + \"\\n\")\n",
    "\n",
    "\n",
    "# demag tensor setup\n",
    "def set_n_demag_cuda(permute, func, dx):\n",
    "    threadsperblock = (32, 8, 1)\n",
    "    an_array = np.zeros(( 2*n[0]-1, 2*n[1] - 1, 2 * n[2]-1), dtype=np.float64)\n",
    "    arr_cuda = cuda.to_device(an_array)\n",
    "    n_cuda = cuda.to_device(np.array(n, dtype=int))\n",
    "    permute_cuda = cuda.to_device(np.array(permute, dtype=int))\n",
    "    dx_cuda = cuda.to_device(np.array(dx, dtype=np.float64))\n",
    "    idxes = np.rollaxis(np.indices((2,)*6), 0, 7).reshape(64, 6)\n",
    "    idxes_cuda = cuda.to_device(idxes)\n",
    "    idx_cuda = np.zeros(an_array.shape + (3, ))\n",
    "    idx_cuda = cuda.to_device(idx_cuda)\n",
    "\n",
    "    if func == 'f':\n",
    "        #print(0)\n",
    "        _func = np.array([0])\n",
    "    else:\n",
    "        #print(1)\n",
    "        _func = np.array([1])\n",
    "\n",
    "    _func = cuda.to_device(_func)\n",
    "    blockspergrid_x = math.ceil(an_array.shape[0] / threadsperblock[0])\n",
    "    blockspergrid_y = math.ceil(an_array.shape[1] / threadsperblock[1])\n",
    "    blockspergrid_z = math.ceil(an_array.shape[2] / threadsperblock[2])\n",
    "    blockspergrid = (blockspergrid_x, blockspergrid_y, blockspergrid_z)\n",
    "\n",
    "    demag_calc_gpu[blockspergrid, threadsperblock](arr_cuda, idxes_cuda, n_cuda, permute_cuda, dx_cuda, _func, idx_cuda)\n",
    "    return arr_cuda\n",
    "\n",
    "def identity(p):\n",
    "    return 0\n",
    "\n",
    "def calculate_demag_tensor_cuda(n, dx):\n",
    "    print(\"Calculating the demagnetization tensor\")\n",
    "    n_demag = np.zeros([2*i-1 for i in n] + [6])\n",
    "    res = []\n",
    "\n",
    "    for i, t in enumerate((('f',0,1,2),('g',0,1,2),('g',0,2,1),('f',1,2,0),('g',1,2,0),('f',2,0,1))):\n",
    "        r = set_n_demag_cuda(func=t[0], permute=t[1:], dx=dx).copy_to_host()\n",
    "        res.append(np.expand_dims(r, 3))\n",
    "    return np.concatenate(res, axis=3)\n",
    "\n",
    "n = (100, 25, 1)\n",
    "dx    = (5e-9, 5e-9, 3e-9)\n",
    "\n",
    "t = time()\n",
    "f = f_cuda\n",
    "g = g_cuda\n",
    "\n",
    "print(f\"how many cells : {np.prod(n)}\")\n",
    "cuda_calc = calculate_demag_tensor_cuda(n ,dx)\n",
    "np.save(\"demag_tensor_gpu.npy\",cuda_calc)\n",
    "print(cuda_calc.shape)\n",
    "_file.close()\n",
    "print(f\"Took {time() - t} s\")\n",
    "np.mean(np.abs(cuda_calc -true))"
   ],
   "metadata": {
    "collapsed": false
   }
  },
  {
   "cell_type": "code",
   "execution_count": null,
   "outputs": [],
   "source": [],
   "metadata": {
    "collapsed": false
   }
  }
 ],
 "metadata": {
  "kernelspec": {
   "display_name": "Python 3",
   "language": "python",
   "name": "python3"
  },
  "language_info": {
   "codemirror_mode": {
    "name": "ipython",
    "version": 2
   },
   "file_extension": ".py",
   "mimetype": "text/x-python",
   "name": "python",
   "nbconvert_exporter": "python",
   "pygments_lexer": "ipython2",
   "version": "2.7.6"
  }
 },
 "nbformat": 4,
 "nbformat_minor": 0
}
