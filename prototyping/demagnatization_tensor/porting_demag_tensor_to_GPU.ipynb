{
 "cells": [
  {
   "cell_type": "code",
   "execution_count": 1,
   "outputs": [],
   "source": [
    "import os\n",
    "os.environ['NUMBA_ENABLE_CUDASIM'] = \"1\""
   ],
   "metadata": {
    "collapsed": false
   }
  },
  {
   "cell_type": "markdown",
   "source": [
    "# playing with porting to CUDA"
   ],
   "metadata": {
    "collapsed": false
   }
  },
  {
   "cell_type": "code",
   "execution_count": 2,
   "outputs": [],
   "source": [
    "import numba.cuda as cuda\n",
    "import numba as nb\n",
    "import numpy as np\n",
    "import math\n",
    "from math import asinh, sqrt, atan\n",
    "from time import time"
   ],
   "metadata": {
    "collapsed": false
   }
  },
  {
   "cell_type": "code",
   "execution_count": 3,
   "metadata": {
    "collapsed": true
   },
   "outputs": [],
   "source": [
    "eps = 1e-10\n",
    "\n",
    "@cuda.jit\n",
    "def increment_a_3D_array(an_array):\n",
    " rray.shape[2] + z\n",
    "\n",
    "n = (20, 10, 1)\n",
    "an_array = np.zeros(( 2*n[0]-1, 2*n[1] - 1, 2 * n[2]-1)) #, 2*n[2] - 1))\n",
    "\n",
    "threadsperblock = (8, 8, 8)\n",
    "blockspergrid_x = math.ceil(an_array.shape[0] / threadsperblock[0])\n",
    "blockspergrid_y = math.ceil(an_array.shape[1] / threadsperblock[1])\n",
    "blockspergrid_z = math.ceil(an_array.shape[2] / threadsperblock[2])\n",
    "blockspergrid = (blockspergrid_x, blockspergrid_y, blockspergrid_z)\n",
    "increment_a_3D_array[blockspergrid, threadsperblock](an_array)   x, y, z = cuda.grid(3)\n",
    "    if x < an_array.shape[0] and y < an_array.shape[1] and z < an_array.shape[2]:\n",
    "       an_array[x, y, z] = x * (an_array.shape[1]* an_array.shape[2]) + y * an_a"
   ]
  },
  {
   "cell_type": "code",
   "execution_count": null,
   "outputs": [],
   "source": [
    "print(an_array[-1 ,-1, 0])"
   ],
   "metadata": {
    "collapsed": false
   }
  },
  {
   "cell_type": "markdown",
   "source": [
    "# Optimizing Newell f and g functions"
   ],
   "metadata": {
    "collapsed": false
   }
  },
  {
   "cell_type": "markdown",
   "source": [
    "## f and g orignal"
   ],
   "metadata": {
    "collapsed": false
   }
  },
  {
   "cell_type": "code",
   "execution_count": 4,
   "outputs": [
    {
     "ename": "NameError",
     "evalue": "name 'eps' is not defined",
     "output_type": "error",
     "traceback": [
      "\u001B[1;31m---------------------------------------------------------------------------\u001B[0m",
      "\u001B[1;31mNameError\u001B[0m                                 Traceback (most recent call last)",
      "\u001B[1;32m~\\AppData\\Local\\Temp\\ipykernel_6160\\1102084981.py\u001B[0m in \u001B[0;36m<module>\u001B[1;34m\u001B[0m\n\u001B[0;32m     19\u001B[0m          \u001B[1;33m-\u001B[0m \u001B[0mx\u001B[0m\u001B[1;33m*\u001B[0m\u001B[0my\u001B[0m \u001B[1;33m*\u001B[0m \u001B[0msqrt\u001B[0m\u001B[1;33m(\u001B[0m\u001B[0mx\u001B[0m\u001B[1;33m**\u001B[0m\u001B[1;36m2\u001B[0m \u001B[1;33m+\u001B[0m \u001B[0my\u001B[0m\u001B[1;33m**\u001B[0m\u001B[1;36m2\u001B[0m \u001B[1;33m+\u001B[0m \u001B[0mz\u001B[0m\u001B[1;33m**\u001B[0m\u001B[1;36m2\u001B[0m\u001B[1;33m)\u001B[0m \u001B[1;33m/\u001B[0m \u001B[1;36m3.0\u001B[0m\u001B[1;33m\u001B[0m\u001B[1;33m\u001B[0m\u001B[0m\n\u001B[0;32m     20\u001B[0m \u001B[1;33m\u001B[0m\u001B[0m\n\u001B[1;32m---> 21\u001B[1;33m \u001B[0mget_ipython\u001B[0m\u001B[1;33m(\u001B[0m\u001B[1;33m)\u001B[0m\u001B[1;33m.\u001B[0m\u001B[0mrun_line_magic\u001B[0m\u001B[1;33m(\u001B[0m\u001B[1;34m'timeit'\u001B[0m\u001B[1;33m,\u001B[0m \u001B[1;34m'f_orig((1e-9, 1e-9, 1e-9))'\u001B[0m\u001B[1;33m)\u001B[0m\u001B[1;33m\u001B[0m\u001B[1;33m\u001B[0m\u001B[0m\n\u001B[0m\u001B[0;32m     22\u001B[0m \u001B[0mget_ipython\u001B[0m\u001B[1;33m(\u001B[0m\u001B[1;33m)\u001B[0m\u001B[1;33m.\u001B[0m\u001B[0mrun_line_magic\u001B[0m\u001B[1;33m(\u001B[0m\u001B[1;34m'timeit'\u001B[0m\u001B[1;33m,\u001B[0m \u001B[1;34m'g_orig((1e-9, 1e-9, 1e-9))'\u001B[0m\u001B[1;33m)\u001B[0m\u001B[1;33m\u001B[0m\u001B[1;33m\u001B[0m\u001B[0m\n",
      "\u001B[1;32mD:\\Python\\lib\\site-packages\\IPython\\core\\interactiveshell.py\u001B[0m in \u001B[0;36mrun_line_magic\u001B[1;34m(self, magic_name, line, _stack_depth)\u001B[0m\n\u001B[0;32m   2362\u001B[0m                 \u001B[0mkwargs\u001B[0m\u001B[1;33m[\u001B[0m\u001B[1;34m'local_ns'\u001B[0m\u001B[1;33m]\u001B[0m \u001B[1;33m=\u001B[0m \u001B[0mself\u001B[0m\u001B[1;33m.\u001B[0m\u001B[0mget_local_scope\u001B[0m\u001B[1;33m(\u001B[0m\u001B[0mstack_depth\u001B[0m\u001B[1;33m)\u001B[0m\u001B[1;33m\u001B[0m\u001B[1;33m\u001B[0m\u001B[0m\n\u001B[0;32m   2363\u001B[0m             \u001B[1;32mwith\u001B[0m \u001B[0mself\u001B[0m\u001B[1;33m.\u001B[0m\u001B[0mbuiltin_trap\u001B[0m\u001B[1;33m:\u001B[0m\u001B[1;33m\u001B[0m\u001B[1;33m\u001B[0m\u001B[0m\n\u001B[1;32m-> 2364\u001B[1;33m                 \u001B[0mresult\u001B[0m \u001B[1;33m=\u001B[0m \u001B[0mfn\u001B[0m\u001B[1;33m(\u001B[0m\u001B[1;33m*\u001B[0m\u001B[0margs\u001B[0m\u001B[1;33m,\u001B[0m \u001B[1;33m**\u001B[0m\u001B[0mkwargs\u001B[0m\u001B[1;33m)\u001B[0m\u001B[1;33m\u001B[0m\u001B[1;33m\u001B[0m\u001B[0m\n\u001B[0m\u001B[0;32m   2365\u001B[0m             \u001B[1;32mreturn\u001B[0m \u001B[0mresult\u001B[0m\u001B[1;33m\u001B[0m\u001B[1;33m\u001B[0m\u001B[0m\n\u001B[0;32m   2366\u001B[0m \u001B[1;33m\u001B[0m\u001B[0m\n",
      "\u001B[1;32m<decorator-gen-54>\u001B[0m in \u001B[0;36mtimeit\u001B[1;34m(self, line, cell, local_ns)\u001B[0m\n",
      "\u001B[1;32mD:\\Python\\lib\\site-packages\\IPython\\core\\magic.py\u001B[0m in \u001B[0;36m<lambda>\u001B[1;34m(f, *a, **k)\u001B[0m\n\u001B[0;32m    185\u001B[0m     \u001B[1;31m# but it's overkill for just that one bit of state.\u001B[0m\u001B[1;33m\u001B[0m\u001B[1;33m\u001B[0m\u001B[0m\n\u001B[0;32m    186\u001B[0m     \u001B[1;32mdef\u001B[0m \u001B[0mmagic_deco\u001B[0m\u001B[1;33m(\u001B[0m\u001B[0marg\u001B[0m\u001B[1;33m)\u001B[0m\u001B[1;33m:\u001B[0m\u001B[1;33m\u001B[0m\u001B[1;33m\u001B[0m\u001B[0m\n\u001B[1;32m--> 187\u001B[1;33m         \u001B[0mcall\u001B[0m \u001B[1;33m=\u001B[0m \u001B[1;32mlambda\u001B[0m \u001B[0mf\u001B[0m\u001B[1;33m,\u001B[0m \u001B[1;33m*\u001B[0m\u001B[0ma\u001B[0m\u001B[1;33m,\u001B[0m \u001B[1;33m**\u001B[0m\u001B[0mk\u001B[0m\u001B[1;33m:\u001B[0m \u001B[0mf\u001B[0m\u001B[1;33m(\u001B[0m\u001B[1;33m*\u001B[0m\u001B[0ma\u001B[0m\u001B[1;33m,\u001B[0m \u001B[1;33m**\u001B[0m\u001B[0mk\u001B[0m\u001B[1;33m)\u001B[0m\u001B[1;33m\u001B[0m\u001B[1;33m\u001B[0m\u001B[0m\n\u001B[0m\u001B[0;32m    188\u001B[0m \u001B[1;33m\u001B[0m\u001B[0m\n\u001B[0;32m    189\u001B[0m         \u001B[1;32mif\u001B[0m \u001B[0mcallable\u001B[0m\u001B[1;33m(\u001B[0m\u001B[0marg\u001B[0m\u001B[1;33m)\u001B[0m\u001B[1;33m:\u001B[0m\u001B[1;33m\u001B[0m\u001B[1;33m\u001B[0m\u001B[0m\n",
      "\u001B[1;32mD:\\Python\\lib\\site-packages\\IPython\\core\\magics\\execution.py\u001B[0m in \u001B[0;36mtimeit\u001B[1;34m(self, line, cell, local_ns)\u001B[0m\n\u001B[0;32m   1178\u001B[0m             \u001B[1;32mfor\u001B[0m \u001B[0mindex\u001B[0m \u001B[1;32min\u001B[0m \u001B[0mrange\u001B[0m\u001B[1;33m(\u001B[0m\u001B[1;36m0\u001B[0m\u001B[1;33m,\u001B[0m \u001B[1;36m10\u001B[0m\u001B[1;33m)\u001B[0m\u001B[1;33m:\u001B[0m\u001B[1;33m\u001B[0m\u001B[1;33m\u001B[0m\u001B[0m\n\u001B[0;32m   1179\u001B[0m                 \u001B[0mnumber\u001B[0m \u001B[1;33m=\u001B[0m \u001B[1;36m10\u001B[0m \u001B[1;33m**\u001B[0m \u001B[0mindex\u001B[0m\u001B[1;33m\u001B[0m\u001B[1;33m\u001B[0m\u001B[0m\n\u001B[1;32m-> 1180\u001B[1;33m                 \u001B[0mtime_number\u001B[0m \u001B[1;33m=\u001B[0m \u001B[0mtimer\u001B[0m\u001B[1;33m.\u001B[0m\u001B[0mtimeit\u001B[0m\u001B[1;33m(\u001B[0m\u001B[0mnumber\u001B[0m\u001B[1;33m)\u001B[0m\u001B[1;33m\u001B[0m\u001B[1;33m\u001B[0m\u001B[0m\n\u001B[0m\u001B[0;32m   1181\u001B[0m                 \u001B[1;32mif\u001B[0m \u001B[0mtime_number\u001B[0m \u001B[1;33m>=\u001B[0m \u001B[1;36m0.2\u001B[0m\u001B[1;33m:\u001B[0m\u001B[1;33m\u001B[0m\u001B[1;33m\u001B[0m\u001B[0m\n\u001B[0;32m   1182\u001B[0m                     \u001B[1;32mbreak\u001B[0m\u001B[1;33m\u001B[0m\u001B[1;33m\u001B[0m\u001B[0m\n",
      "\u001B[1;32mD:\\Python\\lib\\site-packages\\IPython\\core\\magics\\execution.py\u001B[0m in \u001B[0;36mtimeit\u001B[1;34m(self, number)\u001B[0m\n\u001B[0;32m    167\u001B[0m         \u001B[0mgc\u001B[0m\u001B[1;33m.\u001B[0m\u001B[0mdisable\u001B[0m\u001B[1;33m(\u001B[0m\u001B[1;33m)\u001B[0m\u001B[1;33m\u001B[0m\u001B[1;33m\u001B[0m\u001B[0m\n\u001B[0;32m    168\u001B[0m         \u001B[1;32mtry\u001B[0m\u001B[1;33m:\u001B[0m\u001B[1;33m\u001B[0m\u001B[1;33m\u001B[0m\u001B[0m\n\u001B[1;32m--> 169\u001B[1;33m             \u001B[0mtiming\u001B[0m \u001B[1;33m=\u001B[0m \u001B[0mself\u001B[0m\u001B[1;33m.\u001B[0m\u001B[0minner\u001B[0m\u001B[1;33m(\u001B[0m\u001B[0mit\u001B[0m\u001B[1;33m,\u001B[0m \u001B[0mself\u001B[0m\u001B[1;33m.\u001B[0m\u001B[0mtimer\u001B[0m\u001B[1;33m)\u001B[0m\u001B[1;33m\u001B[0m\u001B[1;33m\u001B[0m\u001B[0m\n\u001B[0m\u001B[0;32m    170\u001B[0m         \u001B[1;32mfinally\u001B[0m\u001B[1;33m:\u001B[0m\u001B[1;33m\u001B[0m\u001B[1;33m\u001B[0m\u001B[0m\n\u001B[0;32m    171\u001B[0m             \u001B[1;32mif\u001B[0m \u001B[0mgcold\u001B[0m\u001B[1;33m:\u001B[0m\u001B[1;33m\u001B[0m\u001B[1;33m\u001B[0m\u001B[0m\n",
      "\u001B[1;32m<magic-timeit>\u001B[0m in \u001B[0;36minner\u001B[1;34m(_it, _timer)\u001B[0m\n",
      "\u001B[1;32m~\\AppData\\Local\\Temp\\ipykernel_6160\\1102084981.py\u001B[0m in \u001B[0;36mf_orig\u001B[1;34m(p)\u001B[0m\n\u001B[0;32m      3\u001B[0m   \u001B[1;31m#print(type(p))\u001B[0m\u001B[1;33m\u001B[0m\u001B[1;33m\u001B[0m\u001B[0m\n\u001B[0;32m      4\u001B[0m   \u001B[0mx\u001B[0m\u001B[1;33m,\u001B[0m \u001B[0my\u001B[0m\u001B[1;33m,\u001B[0m \u001B[0mz\u001B[0m \u001B[1;33m=\u001B[0m \u001B[0mabs\u001B[0m\u001B[1;33m(\u001B[0m\u001B[0mp\u001B[0m\u001B[1;33m[\u001B[0m\u001B[1;36m0\u001B[0m\u001B[1;33m]\u001B[0m\u001B[1;33m)\u001B[0m\u001B[1;33m,\u001B[0m \u001B[0mabs\u001B[0m\u001B[1;33m(\u001B[0m\u001B[0mp\u001B[0m\u001B[1;33m[\u001B[0m\u001B[1;36m1\u001B[0m\u001B[1;33m]\u001B[0m\u001B[1;33m)\u001B[0m\u001B[1;33m,\u001B[0m \u001B[0mabs\u001B[0m\u001B[1;33m(\u001B[0m\u001B[0mp\u001B[0m\u001B[1;33m[\u001B[0m\u001B[1;36m2\u001B[0m\u001B[1;33m]\u001B[0m\u001B[1;33m)\u001B[0m\u001B[1;33m\u001B[0m\u001B[1;33m\u001B[0m\u001B[0m\n\u001B[1;32m----> 5\u001B[1;33m   \u001B[1;32mreturn\u001B[0m \u001B[1;33m+\u001B[0m \u001B[0my\u001B[0m \u001B[1;33m/\u001B[0m \u001B[1;36m2.0\u001B[0m \u001B[1;33m*\u001B[0m \u001B[1;33m(\u001B[0m\u001B[0mz\u001B[0m\u001B[1;33m**\u001B[0m\u001B[1;36m2\u001B[0m \u001B[1;33m-\u001B[0m \u001B[0mx\u001B[0m\u001B[1;33m**\u001B[0m\u001B[1;36m2\u001B[0m\u001B[1;33m)\u001B[0m \u001B[1;33m*\u001B[0m \u001B[0masinh\u001B[0m\u001B[1;33m(\u001B[0m\u001B[0my\u001B[0m \u001B[1;33m/\u001B[0m \u001B[1;33m(\u001B[0m\u001B[0msqrt\u001B[0m\u001B[1;33m(\u001B[0m\u001B[0mx\u001B[0m\u001B[1;33m**\u001B[0m\u001B[1;36m2\u001B[0m \u001B[1;33m+\u001B[0m \u001B[0mz\u001B[0m\u001B[1;33m**\u001B[0m\u001B[1;36m2\u001B[0m\u001B[1;33m)\u001B[0m \u001B[1;33m+\u001B[0m \u001B[0meps\u001B[0m\u001B[1;33m)\u001B[0m\u001B[1;33m)\u001B[0m\u001B[0;31m \u001B[0m\u001B[0;31m\\\u001B[0m\u001B[1;33m\u001B[0m\u001B[1;33m\u001B[0m\u001B[0m\n\u001B[0m\u001B[0;32m      6\u001B[0m          \u001B[1;33m+\u001B[0m \u001B[0mz\u001B[0m \u001B[1;33m/\u001B[0m \u001B[1;36m2.0\u001B[0m \u001B[1;33m*\u001B[0m \u001B[1;33m(\u001B[0m\u001B[0my\u001B[0m\u001B[1;33m**\u001B[0m\u001B[1;36m2\u001B[0m \u001B[1;33m-\u001B[0m \u001B[0mx\u001B[0m\u001B[1;33m**\u001B[0m\u001B[1;36m2\u001B[0m\u001B[1;33m)\u001B[0m \u001B[1;33m*\u001B[0m \u001B[0masinh\u001B[0m\u001B[1;33m(\u001B[0m\u001B[0mz\u001B[0m \u001B[1;33m/\u001B[0m \u001B[1;33m(\u001B[0m\u001B[0msqrt\u001B[0m\u001B[1;33m(\u001B[0m\u001B[0mx\u001B[0m\u001B[1;33m**\u001B[0m\u001B[1;36m2\u001B[0m \u001B[1;33m+\u001B[0m \u001B[0my\u001B[0m\u001B[1;33m**\u001B[0m\u001B[1;36m2\u001B[0m\u001B[1;33m)\u001B[0m \u001B[1;33m+\u001B[0m \u001B[0meps\u001B[0m\u001B[1;33m)\u001B[0m\u001B[1;33m)\u001B[0m\u001B[0;31m \u001B[0m\u001B[0;31m\\\u001B[0m\u001B[1;33m\u001B[0m\u001B[1;33m\u001B[0m\u001B[0m\n\u001B[0;32m      7\u001B[0m          \u001B[1;33m-\u001B[0m \u001B[0mx\u001B[0m\u001B[1;33m*\u001B[0m\u001B[0my\u001B[0m\u001B[1;33m*\u001B[0m\u001B[0mz\u001B[0m \u001B[1;33m*\u001B[0m \u001B[0matan\u001B[0m\u001B[1;33m(\u001B[0m\u001B[0my\u001B[0m\u001B[1;33m*\u001B[0m\u001B[0mz\u001B[0m \u001B[1;33m/\u001B[0m \u001B[1;33m(\u001B[0m\u001B[0mx\u001B[0m \u001B[1;33m*\u001B[0m \u001B[0msqrt\u001B[0m\u001B[1;33m(\u001B[0m\u001B[0mx\u001B[0m\u001B[1;33m**\u001B[0m\u001B[1;36m2\u001B[0m \u001B[1;33m+\u001B[0m \u001B[0my\u001B[0m\u001B[1;33m**\u001B[0m\u001B[1;36m2\u001B[0m \u001B[1;33m+\u001B[0m \u001B[0mz\u001B[0m\u001B[1;33m**\u001B[0m\u001B[1;36m2\u001B[0m\u001B[1;33m)\u001B[0m \u001B[1;33m+\u001B[0m \u001B[0meps\u001B[0m\u001B[1;33m)\u001B[0m\u001B[1;33m)\u001B[0m\u001B[0;31m \u001B[0m\u001B[0;31m \u001B[0m\u001B[0;31m \u001B[0m\u001B[0;31m \u001B[0m\u001B[0;31m \u001B[0m\u001B[0;31m \u001B[0m\u001B[0;31m \u001B[0m\u001B[0;31m\\\u001B[0m\u001B[1;33m\u001B[0m\u001B[1;33m\u001B[0m\u001B[0m\n",
      "\u001B[1;31mNameError\u001B[0m: name 'eps' is not defined"
     ]
    }
   ],
   "source": [
    "# newell f\n",
    "def f_orig(p):\n",
    "  #print(type(p))\n",
    "  x, y, z = abs(p[0]), abs(p[1]), abs(p[2])\n",
    "  return + y / 2.0 * (z**2 - x**2) * asinh(y / (sqrt(x**2 + z**2) + eps)) \\\n",
    "         + z / 2.0 * (y**2 - x**2) * asinh(z / (sqrt(x**2 + y**2) + eps)) \\\n",
    "         - x*y*z * atan(y*z / (x * sqrt(x**2 + y**2 + z**2) + eps))       \\\n",
    "         + 1.0 / 6.0 * (2*x**2 - y**2 - z**2) * sqrt(x**2 + y**2 + z**2)\n",
    "\n",
    "# newell g\n",
    "def g_orig(p):\n",
    "  x, y, z = p[0], p[1], abs(p[2])\n",
    "  return + x*y*z * asinh(z / (sqrt(x**2 + y**2) + eps))                         \\\n",
    "         + y / 6.0 * (3.0 * z**2 - y**2) * asinh(x / (sqrt(y**2 + z**2) + eps)) \\\n",
    "         + x / 6.0 * (3.0 * z**2 - x**2) * asinh(y / (sqrt(x**2 + z**2) + eps)) \\\n",
    "         - z**3 / 6.0 * atan(x*y / (z * sqrt(x**2 + y**2 + z**2) + eps))        \\\n",
    "         - z * y**2 / 2.0 * atan(x*z / (y * sqrt(x**2 + y**2 + z**2) + eps))    \\\n",
    "         - z * x**2 / 2.0 * atan(y*z / (x * sqrt(x**2 + y**2 + z**2) + eps))    \\\n",
    "         - x*y * sqrt(x**2 + y**2 + z**2) / 3.0\n",
    "\n",
    "%timeit f_orig((1e-9, 1e-9, 1e-9))\n",
    "%timeit g_orig((1e-9, 1e-9, 1e-9))"
   ],
   "metadata": {
    "collapsed": false
   }
  },
  {
   "cell_type": "markdown",
   "source": [
    "## f and g in jit"
   ],
   "metadata": {
    "collapsed": false
   }
  },
  {
   "cell_type": "code",
   "execution_count": null,
   "outputs": [],
   "source": [
    "# newell f\n",
    "from numba import jit, float64\n",
    "\n",
    "@jit(float64(float64, float64, float64),nopython=True)\n",
    "def f_jit(x, y, z):\n",
    "  #print(type(p))\n",
    "  x, y, z = abs(x), abs(y), abs(z)\n",
    "  return + y / 2.0 * (z**2 - x**2) * asinh(y / (sqrt(x**2 + z**2) + eps)) \\\n",
    "         + z / 2.0 * (y**2 - x**2) * asinh(z / (sqrt(x**2 + y**2) + eps)) \\\n",
    "         - x*y*z * atan(y*z / (x * sqrt(x**2 + y**2 + z**2) + eps))       \\\n",
    "         + 1.0 / 6.0 * (2*x**2 - y**2 - z**2) * sqrt(x**2 + y**2 + z**2)\n",
    "\n",
    "# newell g\n",
    "@jit(float64(float64, float64, float64), nopython=True)\n",
    "def g_jit(x,y,z):\n",
    "  z = abs(z)\n",
    "  return + x*y*z * asinh(z / (sqrt(x**2 + y**2) + eps))                         \\\n",
    "         + y / 6.0 * (3.0 * z**2 - y**2) * asinh(x / (sqrt(y**2 + z**2) + eps)) \\\n",
    "         + x / 6.0 * (3.0 * z**2 - x**2) * asinh(y / (sqrt(x**2 + z**2) + eps)) \\\n",
    "         - z**3 / 6.0 * atan(x*y / (z * sqrt(x**2 + y**2 + z**2) + eps))        \\\n",
    "         - z * y**2 / 2.0 * atan(x*z / (y * sqrt(x**2 + y**2 + z**2) + eps))    \\\n",
    "         - z * x**2 / 2.0 * atan(y*z / (x * sqrt(x**2 + y**2 + z**2) + eps))    \\\n",
    "         - x*y * sqrt(x**2 + y**2 + z**2) / 3.0\n",
    "\n",
    "%timeit f_jit(1e-9, 1e-9, 1e-9)\n",
    "%timeit g_jit(1e-9, 1e-9, 1e-9)"
   ],
   "metadata": {
    "collapsed": false
   }
  },
  {
   "cell_type": "code",
   "execution_count": null,
   "outputs": [],
   "source": [
    "# newell f\n",
    "from numba import jit, float64\n",
    "import numpy as np\n",
    "\n",
    "@jit(float64(float64, float64, float64), nopython=True)\n",
    "def f_jit(x, y, z):\n",
    "  #print(type(p))\n",
    "  x, y, z = np.abs(x), np.abs(y), np.abs(z)\n",
    "  return + y / 2.0 * (z**2 - x**2) * np.arcsinh(y / (np.sqrt(x**2 + z**2) + eps)) \\\n",
    "         + z / 2.0 * (y**2 - x**2) * np.arcsinh(z / (np.sqrt(x**2 + y**2) + eps)) \\\n",
    "         - x*y*z * np.arctan(y*z / (x * np.sqrt(x**2 + y**2 + z**2) + eps))       \\\n",
    "         + 1.0 / 6.0 * (2*x**2 - y**2 - z**2) * np.sqrt(x**2 + y**2 + z**2)\n",
    "\n",
    "# newell g\n",
    "@jit(float64(float64, float64, float64), nopython=True)\n",
    "def g_jit(x,y,z):\n",
    "  z = np.abs(z)\n",
    "  return + x*y*z * np.arcsinh(z / (np.sqrt(x**2 + y**2) + eps))                         \\\n",
    "         + y / 6.0 * (3.0 * z**2 - y**2) * np.arcsinh(x / (np.sqrt(y**2 + z**2) + eps)) \\\n",
    "         + x / 6.0 * (3.0 * z**2 - x**2) * np.arcsinh(y / (np.sqrt(x**2 + z**2) + eps)) \\\n",
    "         - z**3 / 6.0 * np.arctan(x*y / (z * np.sqrt(x**2 + y**2 + z**2) + eps))        \\\n",
    "         - z * y**2 / 2.0 * np.arctan(x*z / (y * np.sqrt(x**2 + y**2 + z**2) + eps))    \\\n",
    "         - z * x**2 / 2.0 * np.arctan(y*z / (x * np.sqrt(x**2 + y**2 + z**2) + eps))    \\\n",
    "         - x*y * np.sqrt(x**2 + y**2 + z**2) / 3.0\n",
    "\n",
    "%timeit f_jit(1e-9, 1e-9, 1e-9)\n",
    "%timeit g_jit(1e-9, 1e-9, 1e-9)"
   ],
   "metadata": {
    "collapsed": false
   }
  },
  {
   "cell_type": "markdown",
   "source": [
    "# f and g in cfunc"
   ],
   "metadata": {
    "collapsed": false
   }
  },
  {
   "cell_type": "code",
   "execution_count": null,
   "outputs": [],
   "source": [
    "from numba import cfunc\n",
    "\n",
    "@cfunc(float64(float64, float64, float64), nopython=True)\n",
    "def f_cfunc(x, y, z):\n",
    "  #print(type(p))\n",
    "  x, y, z = np.abs(x), np.abs(y), np.abs(z)\n",
    "  return + y / 2.0 * (z**2 - x**2) * np.arcsinh(y / (np.sqrt(x**2 + z**2) + eps)) \\\n",
    "         + z / 2.0 * (y**2 - x**2) * np.arcsinh(z / (np.sqrt(x**2 + y**2) + eps)) \\\n",
    "         - x*y*z * np.arctan(y*z / (x * np.sqrt(x**2 + y**2 + z**2) + eps))       \\\n",
    "         + 1.0 / 6.0 * (2*x**2 - y**2 - z**2) * np.sqrt(x**2 + y**2 + z**2)\n",
    "\n",
    "# newell g\n",
    "@cfunc(float64(float64, float64, float64), nopython=True)\n",
    "def g_cfunc(x,y,z):\n",
    "  z = np.abs(z)\n",
    "  return + x*y*z * np.arcsinh(z / (np.sqrt(x**2 + y**2) + eps))                         \\\n",
    "         + y / 6.0 * (3.0 * z**2 - y**2) * np.arcsinh(x / (np.sqrt(y**2 + z**2) + eps)) \\\n",
    "         + x / 6.0 * (3.0 * z**2 - x**2) * np.arcsinh(y / (np.sqrt(x**2 + z**2) + eps)) \\\n",
    "         - z**3 / 6.0 * np.arctan(x*y / (z * np.sqrt(x**2 + y**2 + z**2) + eps))        \\\n",
    "         - z * y**2 / 2.0 * np.arctan(x*z / (y * np.sqrt(x**2 + y**2 + z**2) + eps))    \\\n",
    "         - z * x**2 / 2.0 * np.arctan(y*z / (x * np.sqrt(x**2 + y**2 + z**2) + eps))    \\\n",
    "         - x*y * np.sqrt(x**2 + y**2 + z**2) / 3.0\n",
    "\n",
    "# very sad result\n",
    "%timeit f_cfunc(1e-9, 1e-9, 1e-9)\n",
    "%timeit g_cfunc(1e-9, 1e-9, 1e-9)"
   ],
   "metadata": {
    "collapsed": false
   }
  },
  {
   "cell_type": "markdown",
   "source": [
    "# GPU with numba jit"
   ],
   "metadata": {
    "collapsed": false
   }
  },
  {
   "cell_type": "code",
   "execution_count": null,
   "outputs": [],
   "source": [
    "# newell f\n",
    "@cuda.jit\n",
    "def f_cuda(x,y,z):\n",
    "  #print(type(p))\n",
    "  x, y, z = abs(x), abs(y), abs(z)\n",
    "  return + y / 2.0 * (z**2 - x**2) * asinh(y / (sqrt(x**2 + z**2) + eps)) \\\n",
    "         + z / 2.0 * (y**2 - x**2) * asinh(z / (sqrt(x**2 + y**2) + eps)) \\\n",
    "         - x*y*z * atan(y*z / (x * sqrt(x**2 + y**2 + z**2) + eps))       \\\n",
    "         + 1.0 / 6.0 * (2*x**2 - y**2 - z**2) * sqrt(x**2 + y**2 + z**2)\n",
    "\n",
    "# newell g\n",
    "@cuda.jit\n",
    "def g_cuda(x,y,z):\n",
    "  z =  abs(z)\n",
    "  return + x*y*z * asinh(z / (sqrt(x**2 + y**2) + eps))                         \\\n",
    "         + y / 6.0 * (3.0 * z**2 - y**2) * asinh(x / (sqrt(y**2 + z**2) + eps)) \\\n",
    "         + x / 6.0 * (3.0 * z**2 - x**2) * asinh(y / (sqrt(x**2 + z**2) + eps)) \\\n",
    "         - z**3 / 6.0 * atan(x*y / (z * sqrt(x**2 + y**2 + z**2) + eps))        \\\n",
    "         - z * y**2 / 2.0 * atan(x*z / (y * sqrt(x**2 + y**2 + z**2) + eps))    \\\n",
    "         - z * x**2 / 2.0 * atan(y*z / (x * sqrt(x**2 + y**2 + z**2) + eps))    \\\n",
    "         - x*y * sqrt(x**2 + y**2 + z**2) / 3.0\n",
    "\n",
    "@cuda.jit\n",
    "def array_3D_set_f_g(an_array):\n",
    "    x, y, z = cuda.grid(3)\n",
    "    if x < an_array.shape[0] and y < an_array.shape[1] and z < an_array.shape[2]:\n",
    "       an_array[x, y, z] = f_cuda(x,y,z)\n",
    "\n",
    "n = (125, 25, 1)\n",
    "an_array = np.zeros(( 2*n[0]-1, 2*n[1] - 1, 2 * n[2]-1))\n",
    "arr = cuda.to_device(an_array)\n",
    "\n",
    "threadsperblock = (16, 16, 4)\n",
    "blockspergrid_x = math.ceil(an_array.shape[0] / threadsperblock[0])\n",
    "blockspergrid_y = math.ceil(an_array.shape[1] / threadsperblock[1])\n",
    "blockspergrid_z = math.ceil(an_array.shape[2] / threadsperblock[2])\n",
    "blockspergrid = (blockspergrid_x, blockspergrid_y, blockspergrid_z)\n",
    "\n",
    "%timeit array_3D_set_f_g[blockspergrid, threadsperblock](arr)"
   ],
   "metadata": {
    "collapsed": false
   }
  },
  {
   "cell_type": "markdown",
   "source": [
    "## same as above (but with trig functions from numpy)"
   ],
   "metadata": {
    "collapsed": false
   }
  },
  {
   "cell_type": "code",
   "execution_count": null,
   "outputs": [],
   "source": [
    "# newell f\n",
    "@cuda.jit(fastmath=False)\n",
    "def f_cuda(x,y,z):\n",
    "  x, y, z = abs(x), abs(y), abs(z)\n",
    "  return + y / 2.0 * (z**2 - x**2) * asinh(y / (sqrt(x**2 + z**2) + eps)) \\\n",
    "         + z / 2.0 * (y**2 - x**2) * asinh(z / (sqrt(x**2 + y**2) + eps)) \\\n",
    "         - x*y*z * atan(y*z / (x * sqrt(x**2 + y**2 + z**2) + eps))       \\\n",
    "         + 1.0 / 6.0 * (2*x**2 - y**2 - z**2) * sqrt(x**2 + y**2 + z**2)\n",
    "\n",
    "# newell g\n",
    "@cuda.jit(fastmath=False)\n",
    "def g_cuda(x,y,z):\n",
    "  z =  abs(z)\n",
    "  return + x*y*z * asinh(z / (sqrt(x**2 + y**2) + eps))                         \\\n",
    "         + y / 6.0 * (3.0 * z**2 - y**2) * asinh(x / (sqrt(y**2 + z**2) + eps)) \\\n",
    "         + x / 6.0 * (3.0 * z**2 - x**2) * asinh(y / (sqrt(x**2 + z**2) + eps)) \\\n",
    "         - z**3 / 6.0 * atan(x*y / (z * sqrt(x**2 + y**2 + z**2) + eps))        \\\n",
    "         - z * y**2 / 2.0 * atan(x*z / (y * sqrt(x**2 + y**2 + z**2) + eps))    \\\n",
    "         - z * x**2 / 2.0 * atan(y*z / (x * sqrt(x**2 + y**2 + z**2) + eps))    \\\n",
    "         - x*y * sqrt(x**2 + y**2 + z**2) / 3.0\n",
    "\n",
    "@cuda.jit\n",
    "def array_3D_set_f_g(an_array, idxes):\n",
    "    x, y, z = cuda.grid(3)\n",
    "    #print(x,y,z)\n",
    "    if x < an_array.shape[0] and y < an_array.shape[1] and z < an_array.shape[2]:\n",
    "       an_array[x, y, z] = f_cuda(x,y,z)\n",
    "\n",
    "n = (125, 25, 1)\n",
    "an_array = np.zeros(( 2*n[0]-1, 2*n[1] - 1, 2 * n[2]-1), dtype=np.float64)\n",
    "arr = cuda.to_device(an_array)\n",
    "idxes = np.rollaxis(np.indices((2,)*6), 0, 7).reshape(64, 6)\n",
    "idxes = cuda.to_device(idxes)\n",
    "\n",
    "threadsperblock = (16, 16, 4)\n",
    "blockspergrid_x = math.ceil(an_array.shape[0] / threadsperblock[0])\n",
    "blockspergrid_y = math.ceil(an_array.shape[1] / threadsperblock[1])\n",
    "blockspergrid_z = math.ceil(an_array.shape[2] / threadsperblock[2])\n",
    "blockspergrid = (blockspergrid_x, blockspergrid_y, blockspergrid_z)\n",
    "\n",
    "array_3D_set_f_g[blockspergrid, threadsperblock](arr, idxes)"
   ],
   "metadata": {
    "collapsed": false
   }
  },
  {
   "cell_type": "markdown",
   "source": [
    "# Tests on demag calculation"
   ],
   "metadata": {
    "collapsed": false
   }
  },
  {
   "cell_type": "code",
   "execution_count": null,
   "outputs": [],
   "source": [
    "from math import pi\n",
    "from time import time\n",
    "\n",
    "# demag tensor setup\n",
    "def set_n_demag_orig(c, permute, func, n_demag, dx):\n",
    "  it = np.nditer(n_demag[:,:,:,c], flags=['multi_index'], op_flags=['writeonly'])\n",
    "  while not it.finished:\n",
    "    value = 0.0\n",
    "    for i in np.rollaxis(np.indices((2,)*6), 0, 7).reshape(64, 6):\n",
    "      idx = list(map(lambda k: (it.multi_index[k] + n[k] - 1) % (2*n[k] - 1) - n[k] + 1, range(3)))\n",
    "      vec = list(map(lambda j: (idx[j] + i[j] - i[j+3]) * dx[j], permute))\n",
    "      value += (-1)**sum(i) * func((vec[0], vec[1], vec[2]))\n",
    "    it[0] = - value / (4 * pi * np.prod(dx))\n",
    "    it.iternext()\n",
    "\n",
    "def identity(p):\n",
    "    return 0\n",
    "\n",
    "def calculate_demag_tensor_orig(n, dx):\n",
    "    print(\"Calculating the demagnetization tensor\")\n",
    "    n_demag = np.zeros([2*i-1 for i in n] + [6])\n",
    "\n",
    "    for i, t in enumerate(((f,0,1,2),(g,0,1,2),(g,0,2,1),(f,1,2,0),(g,1,2,0),(f,2,0,1))):\n",
    "        set_n_demag_orig(i, t[1:], t[0], n_demag=n_demag, dx=dx)\n",
    "    return n_demag\n",
    "\n",
    "n = (125, 25, 1)\n",
    "dx = (1e-9, 1e-9, 1e-9)\n",
    "t = time()\n",
    "\n",
    "f = f_orig\n",
    "g = g_orig\n",
    "\n",
    "tensor_original = calculate_demag_tensor_orig(n ,dx)\n",
    "print(f\"Took {time() - t} s\")"
   ],
   "metadata": {
    "collapsed": false
   }
  },
  {
   "cell_type": "code",
   "execution_count": null,
   "outputs": [],
   "source": [
    "from math import pi\n",
    "from time import time\n",
    "\n",
    "@jit(float64(float64, float64, float64),nopython=True)\n",
    "def f_jit(x, y, z):\n",
    "  #print(type(p))\n",
    "  x, y, z = abs(x), abs(y), abs(z)\n",
    "  return + y / 2.0 * (z**2 - x**2) * asinh(y / (sqrt(x**2 + z**2) + eps)) \\\n",
    "         + z / 2.0 * (y**2 - x**2) * asinh(z / (sqrt(x**2 + y**2) + eps)) \\\n",
    "         - x*y*z * atan(y*z / (x * sqrt(x**2 + y**2 + z**2) + eps))       \\\n",
    "         + 1.0 / 6.0 * (2*x**2 - y**2 - z**2) * sqrt(x**2 + y**2 + z**2)\n",
    "\n",
    "# newell g\n",
    "@jit(float64(float64, float64, float64), nopython=True)\n",
    "def g_jit(x,y,z):\n",
    "  z = abs(z)\n",
    "  return + x*y*z * asinh(z / (sqrt(x**2 + y**2) + eps))                         \\\n",
    "         + y / 6.0 * (3.0 * z**2 - y**2) * asinh(x / (sqrt(y**2 + z**2) + eps)) \\\n",
    "         + x / 6.0 * (3.0 * z**2 - x**2) * asinh(y / (sqrt(x**2 + z**2) + eps)) \\\n",
    "         - z**3 / 6.0 * atan(x*y / (z * sqrt(x**2 + y**2 + z**2) + eps))        \\\n",
    "         - z * y**2 / 2.0 * atan(x*z / (y * sqrt(x**2 + y**2 + z**2) + eps))    \\\n",
    "         - z * x**2 / 2.0 * atan(y*z / (x * sqrt(x**2 + y**2 + z**2) + eps))    \\\n",
    "         - x*y * sqrt(x**2 + y**2 + z**2) / 3.0\n",
    "\n",
    "# demag tensor setup\n",
    "def set_n_demag(c, permute, func, n_demag, dx):\n",
    "  it = np.nditer(n_demag[:,:,:,c], flags=['multi_index'], op_flags=['writeonly'])\n",
    "  while not it.finished:\n",
    "    value = 0.0\n",
    "    for i in np.rollaxis(np.indices((2,)*6), 0, 7).reshape(64, 6):\n",
    "      idx = list(map(lambda k: (it.multi_index[k] + n[k] - 1) % (2*n[k] - 1) - n[k] + 1, range(3)))\n",
    "      vec = list(map(lambda j: (idx[j] + i[j] - i[j+3]) * dx[j], permute))\n",
    "      value += (-1)**sum(i) * func(vec[0], vec[1], vec[2])\n",
    "    it[0] = - value / (4 * pi * np.prod(dx))\n",
    "    it.iternext()\n",
    "\n",
    "def identity(p):\n",
    "    return 0\n",
    "\n",
    "def calculate_demag_tensor(n, dx):\n",
    "    print(\"Calculating the demagnetization tensor\")\n",
    "    n_demag = np.zeros([2*i-1 for i in n] + [6])\n",
    "\n",
    "    for i, t in enumerate(((f,0,1,2),(g,0,1,2),(g,0,2,1),(f,1,2,0),(g,1,2,0),(f,2,0,1))):\n",
    "        set_n_demag(i, t[1:], t[0], n_demag=n_demag, dx=dx)\n",
    "    return n_demag\n",
    "\n",
    "n = (125, 25, 1)\n",
    "dx = (1e-9, 1e-9, 1e-9)\n",
    "t = time()\n",
    "\n",
    "f = f_jit\n",
    "g = g_jit\n",
    "\n",
    "tensor_f_g_jit = calculate_demag_tensor(n ,dx)\n",
    "print(f\"Took {time() - t} s\")"
   ],
   "metadata": {
    "collapsed": false
   }
  },
  {
   "cell_type": "code",
   "execution_count": null,
   "outputs": [],
   "source": [
    "import seaborn as sns\n",
    "import matplotlib.pyplot as plt\n",
    "\n",
    "print(\"differences between the values in tensors\")\n",
    "to = tensor_original[:,:,0,:]\n",
    "tjit = tensor_f_g_jit[:,:,0,:]\n",
    "diff = np.abs((to - tjit))\n",
    "\n",
    "#diff[diff != 0] /= to[diff != 0]\n",
    "\n",
    "#for x in diff.shape[0]:\n",
    "#    for y in diff.shape[1]:\n",
    "#        for z in diff.shape[2]:\n",
    "#            if diff[x,y,z] != 0:\n",
    "#                diff[x,y,z] =\n",
    "print(f\"mean absolute difference : {np.sum(diff) / np.sum(to != 0)}\")\n",
    "\n",
    "for i in range(6):\n",
    "    sns.heatmap(diff[:, :, i])\n",
    "    plt.show()"
   ],
   "metadata": {
    "collapsed": false
   }
  },
  {
   "cell_type": "code",
   "execution_count": 3,
   "outputs": [
    {
     "ename": "NameError",
     "evalue": "name 'f_orig' is not defined",
     "output_type": "error",
     "traceback": [
      "\u001B[1;31m---------------------------------------------------------------------------\u001B[0m",
      "\u001B[1;31mNameError\u001B[0m                                 Traceback (most recent call last)",
      "\u001B[1;32m~\\AppData\\Local\\Temp\\ipykernel_6160\\1180873741.py\u001B[0m in \u001B[0;36m<module>\u001B[1;34m\u001B[0m\n\u001B[0;32m     31\u001B[0m \u001B[0mdx\u001B[0m \u001B[1;33m=\u001B[0m \u001B[1;33m(\u001B[0m\u001B[1;36m1e-9\u001B[0m\u001B[1;33m,\u001B[0m \u001B[1;36m1e-9\u001B[0m\u001B[1;33m,\u001B[0m \u001B[1;36m1e-9\u001B[0m\u001B[1;33m)\u001B[0m\u001B[1;33m\u001B[0m\u001B[1;33m\u001B[0m\u001B[0m\n\u001B[0;32m     32\u001B[0m \u001B[0mt\u001B[0m \u001B[1;33m=\u001B[0m \u001B[0mtime\u001B[0m\u001B[1;33m(\u001B[0m\u001B[1;33m)\u001B[0m\u001B[1;33m\u001B[0m\u001B[1;33m\u001B[0m\u001B[0m\n\u001B[1;32m---> 33\u001B[1;33m \u001B[0mf\u001B[0m \u001B[1;33m=\u001B[0m \u001B[0mf_orig\u001B[0m\u001B[1;33m\u001B[0m\u001B[1;33m\u001B[0m\u001B[0m\n\u001B[0m\u001B[0;32m     34\u001B[0m \u001B[0mg\u001B[0m \u001B[1;33m=\u001B[0m \u001B[0mg_orig\u001B[0m\u001B[1;33m\u001B[0m\u001B[1;33m\u001B[0m\u001B[0m\n\u001B[0;32m     35\u001B[0m \u001B[1;33m\u001B[0m\u001B[0m\n",
      "\u001B[1;31mNameError\u001B[0m: name 'f_orig' is not defined"
     ]
    }
   ],
   "source": [
    "# demag tensor setup\n",
    "def set_n_demag_verbose(c, permute, func, n_demag, dx):\n",
    "  it = np.nditer(n_demag[:,:,:,c], flags=['multi_index'], op_flags=['writeonly'])\n",
    "  while not it.finished:\n",
    "    value = 0.0\n",
    "    for i in np.rollaxis(np.indices((2,)*6), 0, 7).reshape(64, 6):\n",
    "      idx = [(it.multi_index[0] + n[0] - 1) % (2*n[0] - 1) - n[0] + 1,\n",
    "             (it.multi_index[1] + n[1] - 1) % (2*n[1] - 1) - n[1] + 1,\n",
    "             (it.multi_index[2] + n[2] - 1) % (2*n[2] - 1) - n[2] + 1]\n",
    "      #print(it.multi_index[0], it.multi_index[1], it.multi_index[2])\n",
    "      x = (idx[permute[0]] + i[permute[0]] - i[permute[0]+3]) * dx[permute[0]]\n",
    "      y = (idx[permute[1]] + i[permute[1]] - i[permute[1]+3]) * dx[permute[1]]\n",
    "      z = (idx[permute[2]] + i[permute[2]] - i[permute[2]+3]) * dx[permute[2]]\n",
    "      value += (-1)**sum(i) * func((x,y,z))\n",
    "    it[0] = - value / (4 * pi * np.prod(dx))\n",
    "    it.iternext()\n",
    "\n",
    "def identity(p):\n",
    "    return 0\n",
    "\n",
    "def calculate_demag_tensor_verbose(n, dx):\n",
    "    print(\"Calculating the demagnetization tensor\")\n",
    "    n_demag = np.zeros([2*i-1 for i in n] + [6])\n",
    "\n",
    "    for i, t in enumerate(((f,0,1,2),(g,0,1,2),(g,0,2,1),(f,1,2,0),(g,1,2,0),(f,2,0,1))):\n",
    "        set_n_demag_verbose(i, t[1:], t[0], n_demag=n_demag, dx=dx)\n",
    "    return n_demag\n",
    "\n",
    "\n",
    "n = (2, 1, 1)\n",
    "dx = (1e-9, 1e-9, 1e-9)\n",
    "t = time()\n",
    "f = f_orig\n",
    "g = g_orig\n",
    "\n",
    "verbose = calculate_demag_tensor_verbose(n ,dx)\n",
    "print(f\"Took {time() - t} s\")\n",
    "print(verbose)"
   ],
   "metadata": {
    "collapsed": false
   }
  },
  {
   "cell_type": "code",
   "execution_count": null,
   "outputs": [],
   "source": [
    "print(\"differences between the values in tensors\")\n",
    "to = tensor_original[:,:,0,:]\n",
    "tvg = verbose[:,:,0,:]\n",
    "diff = np.abs((to - tvg))\n",
    "print(f\"mean absolute difference : {np.sum(diff)}\")"
   ],
   "metadata": {
    "collapsed": false
   }
  },
  {
   "cell_type": "markdown",
   "source": [
    "# Demag on GPU"
   ],
   "metadata": {
    "collapsed": false
   }
  },
  {
   "cell_type": "code",
   "execution_count": 104,
   "outputs": [
    {
     "name": "stdout",
     "output_type": "stream",
     "text": [
      "Calculating the demagnetization tensor\n",
      "(3, 1, 1, 6)\n",
      "Took 1.0116775035858154 s\n"
     ]
    },
    {
     "name": "stderr",
     "output_type": "stream",
     "text": [
      "D:\\Python\\lib\\site-packages\\numba\\cuda\\cudadrv\\devicearray.py:885: NumbaPerformanceWarning: \u001B[1mHost array used in CUDA kernel will incur copy overhead to/from device.\u001B[0m\n",
      "  warn(NumbaPerformanceWarning(msg))\n",
      "D:\\Python\\lib\\site-packages\\numba\\cuda\\compiler.py:726: NumbaPerformanceWarning: \u001B[1mGrid size (1) < 2 * SM count (28) will likely result in GPU under utilization due to low occupancy.\u001B[0m\n",
      "  warn(NumbaPerformanceWarning(msg))\n"
     ]
    },
    {
     "data": {
      "text/plain": "array([[[[-6.36619760e-09, -0.00000000e+00, -0.00000000e+00,\n          -6.36619760e-09, -0.00000000e+00, -6.36619761e-09]]],\n\n\n       [[[ 2.30316545e+00, -6.36619770e-09, -6.36619773e-09,\n          -1.15158275e+00,  2.85470179e-17, -1.15158275e+00]]],\n\n\n       [[[ 2.30316545e+00,  6.36619773e-09,  6.36619773e-09,\n          -1.15158275e+00,  2.85470179e-17, -1.15158275e+00]]]])"
     },
     "execution_count": 104,
     "metadata": {},
     "output_type": "execute_result"
    }
   ],
   "source": [
    "# newell f\n",
    "#@cuda.jit\n",
    "\n",
    "eps=1e-10\n",
    "\n",
    "@cuda.jit\n",
    "def f_cuda(x,y,z):\n",
    "  #print(type(p))\n",
    "  x, y, z = abs(x), abs(y), abs(z)\n",
    "  return + y / 2.0 * (z**2 - x**2) * asinh(y / (sqrt(x**2 + z**2) + eps)) \\\n",
    "         + z / 2.0 * (y**2 - x**2) * asinh(z / (sqrt(x**2 + y**2) + eps)) \\\n",
    "         - x*y*z * atan(y*z / (x * sqrt(x**2 + y**2 + z**2) + eps))       \\\n",
    "         + 1.0 / 6.0 * (2*x**2 - y**2 - z**2) * sqrt(x**2 + y**2 + z**2)\n",
    "\n",
    "# newell g\n",
    "@cuda.jit\n",
    "def g_cuda(x,y,z):\n",
    "  z =  abs(z)\n",
    "  return + x*y*z * asinh(z / (sqrt(x**2 + y**2) + eps))                         \\\n",
    "         + y / 6.0 * (3.0 * z**2 - y**2) * asinh(x / (sqrt(y**2 + z**2) + eps)) \\\n",
    "         + x / 6.0 * (3.0 * z**2 - x**2) * asinh(y / (sqrt(x**2 + z**2) + eps)) \\\n",
    "         - z**3 / 6.0 * atan(x*y / (z * sqrt(x**2 + y**2 + z**2) + eps))        \\\n",
    "         - z * y**2 / 2.0 * atan(x*z / (y * sqrt(x**2 + y**2 + z**2) + eps))    \\\n",
    "         - z * x**2 / 2.0 * atan(y*z / (x * sqrt(x**2 + y**2 + z**2) + eps))    \\\n",
    "         - x*y * sqrt(x**2 + y**2 + z**2) / 3.0\n",
    "\n",
    "@cuda.jit\n",
    "def demag_calc_gpu(array, idxes, n, permute, dx, _func, idx_table):\n",
    "    x_idx, y_idx, z_idx = cuda.grid(3)\n",
    "    if x_idx < array.shape[0] and y_idx < array.shape[1] and z_idx < array.shape[2]:\n",
    "        idx = idx_table[x_idx, y_idx, z_idx,:]\n",
    "        value = 0\n",
    "        i = 0\n",
    "        while i < 64:\n",
    "            idx[ 0] = (x_idx + n[0] - 1) % (2*n[0] - 1) - n[0] + 1\n",
    "            idx[ 1] = (y_idx + n[1] - 1) % (2*n[1] - 1) - n[1] + 1\n",
    "            idx[ 2] = (z_idx + n[2] - 1) % (2*n[2] - 1) - n[2] + 1\n",
    "\n",
    "\n",
    "            x = (idx[permute[0]] + idxes[i][permute[0]] - idxes[i][permute[0]+3]) * dx[permute[0]]\n",
    "            y = (idx[permute[1]] + idxes[i][permute[1]] - idxes[i][permute[1]+3]) * dx[permute[1]]\n",
    "            z = (idx[permute[2]] + idxes[i][permute[2]] - idxes[i][permute[2]+3]) * dx[permute[2]]\n",
    "\n",
    "            sign = -1**(idxes[i][0] + idxes[i][1] + idxes[i][2] + idxes[i][3] + idxes[i][4] + idxes[i][5])\n",
    "\n",
    "            if _func[0] == 0:\n",
    "                value += sign * f_cuda(x,y,z)\n",
    "            else:\n",
    "                value += sign * g_cuda(x,y,z)\n",
    "\n",
    "            i += 1\n",
    "        div = 12.56637061 * dx[0] * dx[1] * dx[2]\n",
    "        array[x_idx,y_idx,z_idx] = - value / div\n",
    "\n",
    "# demag tensor setup\n",
    "def set_n_demag_cuda(permute, func, dx):\n",
    "    threadsperblock = (32, 8, 1)\n",
    "    an_array = np.zeros(( 2*n[0]-1, 2*n[1] - 1, 2 * n[2]-1), dtype=np.float64)\n",
    "    arr_cuda = cuda.to_device(an_array)\n",
    "    n_cuda = cuda.to_device(np.array(n, dtype=int))\n",
    "    permute_cuda = cuda.to_device(np.array(permute, dtype=int))\n",
    "    dx_cuda = cuda.to_device(np.array(dx, dtype=np.float64))\n",
    "    idxes = np.rollaxis(np.indices((2,)*6), 0, 7).reshape(64, 6)\n",
    "    idxes_cuda = cuda.to_device(idxes)\n",
    "    idx_cuda = np.zeros(an_array.shape + (3, ))\n",
    "    idx_cuda = cuda.to_device(idx_cuda)\n",
    "\n",
    "    if func == 'f':\n",
    "        #print(0)\n",
    "        _func = np.array([0])\n",
    "    else:\n",
    "        #print(1)\n",
    "        _func = np.array([1])\n",
    "\n",
    "    blockspergrid_x = math.ceil(an_array.shape[0] / threadsperblock[0])\n",
    "    blockspergrid_y = math.ceil(an_array.shape[1] / threadsperblock[1])\n",
    "    blockspergrid_z = math.ceil(an_array.shape[2] / threadsperblock[2])\n",
    "    blockspergrid = (blockspergrid_x, blockspergrid_y, blockspergrid_z)\n",
    "\n",
    "    demag_calc_gpu[blockspergrid, threadsperblock](arr_cuda, idxes_cuda, n_cuda, permute_cuda, dx_cuda, _func, idx_cuda)\n",
    "    return arr_cuda\n",
    "\n",
    "def identity(p):\n",
    "    return 0\n",
    "\n",
    "def calculate_demag_tensor_cuda(n, dx):\n",
    "    print(\"Calculating the demagnetization tensor\")\n",
    "    n_demag = np.zeros([2*i-1 for i in n] + [6])\n",
    "    res = []\n",
    "\n",
    "    for i, t in enumerate((('f',0,1,2),('g',0,1,2),('g',0,2,1),('f',1,2,0),('g',1,2,0),('f',2,0,1))):\n",
    "        r = set_n_demag_cuda(func=t[0], permute=t[1:], dx=dx).copy_to_host()\n",
    "        res.append(np.expand_dims(r, 3))\n",
    "    return np.concatenate(res, axis=3)\n",
    "\n",
    "n = (2, 1, 1)\n",
    "dx = (1e-9, 1e-9, 1e-9)\n",
    "t = time()\n",
    "f = f_cuda\n",
    "g = g_cuda\n",
    "\n",
    "cuda_calc = calculate_demag_tensor_cuda(n ,dx)\n",
    "print(cuda_calc.shape)\n",
    "print(f\"Took {time() - t} s\")\n",
    "cuda_calc"
   ],
   "metadata": {
    "collapsed": false
   }
  },
  {
   "cell_type": "code",
   "execution_count": 99,
   "outputs": [
    {
     "data": {
      "text/plain": "array([[[[-6.36619760e-09, -0.00000000e+00, -0.00000000e+00,\n          -6.36619760e-09, -0.00000000e+00, -6.36619761e-09]]]])"
     },
     "execution_count": 99,
     "metadata": {},
     "output_type": "execute_result"
    }
   ],
   "source": [],
   "metadata": {
    "collapsed": false
   }
  },
  {
   "cell_type": "code",
   "execution_count": 85,
   "outputs": [],
   "source": [
    "diff = cuda_calc - tensor_original"
   ],
   "metadata": {
    "collapsed": false
   }
  }
 ],
 "metadata": {
  "kernelspec": {
   "display_name": "Python 3",
   "language": "python",
   "name": "python3"
  },
  "language_info": {
   "codemirror_mode": {
    "name": "ipython",
    "version": 2
   },
   "file_extension": ".py",
   "mimetype": "text/x-python",
   "name": "python",
   "nbconvert_exporter": "python",
   "pygments_lexer": "ipython2",
   "version": "2.7.6"
  }
 },
 "nbformat": 4,
 "nbformat_minor": 0
}
