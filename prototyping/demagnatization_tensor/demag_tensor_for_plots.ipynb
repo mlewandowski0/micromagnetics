{
 "cells": [
  {
   "cell_type": "code",
   "execution_count": 18,
   "metadata": {},
   "outputs": [],
   "source": [
    "import numpy as np\n",
    "from math import asinh, atan, sqrt, pi\n",
    "from time import time \n",
    "import os\n",
    "\n",
    "def format_time(_time):\n",
    "    v = round(_time, 3)\n",
    "    return f\"{v//3600}h {(v % 3600)//60}m {round(v % 60, 3)}s\"\n",
    "\n",
    "# newell f\n",
    "def f(p):\n",
    "  #print(type(p))\n",
    "  x, y, z = abs(p[0]), abs(p[1]), abs(p[2])\n",
    "  return + y / 2.0 * (z**2 - x**2) * asinh(y / (sqrt(x**2 + z**2) + eps)) \\\n",
    "         + z / 2.0 * (y**2 - x**2) * asinh(z / (sqrt(x**2 + y**2) + eps)) \\\n",
    "         - x*y*z * atan(y*z / (x * sqrt(x**2 + y**2 + z**2) + eps))       \\\n",
    "         + 1.0 / 6.0 * (2*x**2 - y**2 - z**2) * sqrt(x**2 + y**2 + z**2)\n",
    "\n",
    "# newell g\n",
    "def g(p):\n",
    "  x, y, z = p[0], p[1], abs(p[2])\n",
    "  return + x*y*z * asinh(z / (sqrt(x**2 + y**2) + eps))                         \\\n",
    "         + y / 6.0 * (3.0 * z**2 - y**2) * asinh(x / (sqrt(y**2 + z**2) + eps)) \\\n",
    "         + x / 6.0 * (3.0 * z**2 - x**2) * asinh(y / (sqrt(x**2 + z**2) + eps)) \\\n",
    "         - z**3 / 6.0 * atan(x*y / (z * sqrt(x**2 + y**2 + z**2) + eps))        \\\n",
    "         - z * y**2 / 2.0 * atan(x*z / (y * sqrt(x**2 + y**2 + z**2) + eps))    \\\n",
    "         - z * x**2 / 2.0 * atan(y*z / (x * sqrt(x**2 + y**2 + z**2) + eps))    \\\n",
    "         - x*y * sqrt(x**2 + y**2 + z**2) / 3.0\n",
    "\n",
    "\n",
    "# demag tensor setup\n",
    "def set_n_demag(c, permute, func, n_demag, dx):\n",
    "  it = np.nditer(n_demag[:,:,:,c], flags=['multi_index'], op_flags=['writeonly'])\n",
    "  while not it.finished:\n",
    "    value = 0.0\n",
    "    for i in np.rollaxis(np.indices((2,)*6), 0, 7).reshape(64, 6):\n",
    "      idx = list(map(lambda k: (it.multi_index[k] + n[k] - 1) % (2*n[k] - 1) - n[k] + 1, range(3)))\n",
    "      value += (-1)**sum(i) * func(list(map(lambda j: (idx[j] + i[j] - i[j+3]) * dx[j], permute)))\n",
    "    it[0] = - value / (4 * pi * np.prod(dx))\n",
    "    it.iternext()\n",
    "\n",
    "# demag tensor setup\n",
    "def set_n_demag_test(c, permute, func, n_demag, dx):\n",
    "  it = np.nditer(n_demag[:,:,:,c], flags=['multi_index'], op_flags=['writeonly'])\n",
    "  while not it.finished:\n",
    "    value = 0.0\n",
    "    for i in np.rollaxis(np.indices((2,)*6), 0, 7).reshape(64, 6):\n",
    "      idx = list(map(lambda k: (it.multi_index[k] + n[k] - 1) % (2*n[k] - 1) - n[k] + 1, range(3)))\n",
    "      value += (-1)**sum(i) * func(list(map(lambda j: (idx[j] + i[j] - i[j+3]) * dx[j], permute)))\n",
    "    it[0] = - value / (4 * pi * np.prod(dx))\n",
    "    it.iternext()\n",
    "\n",
    "\n",
    "def calculate_demag_tensor(n, dx, demag_tensor_file = \"demag_tensor.npy\"):\n",
    "    print(\"Calculating the demagnetization tensor\")\n",
    "    n_demag = np.zeros([2*i-1 for i in n] + [6])\n",
    "    for i, t in enumerate(((f,0,1,2),(g,0,1,2),(g,0,2,1),(f,1,2,0),(g,1,2,0),(f,2,0,1))):\n",
    "        set_n_demag(i, t[1:], t[0], n_demag=n_demag, dx=dx)\n",
    "    np.save(demag_tensor_file, n_demag)\n",
    "    return n_demag\n",
    "\n",
    "\n",
    "def calculate_demag_tensor_test(n, dx, demag_tensor_file = \"demag_tensor.npy\"):\n",
    "    print(\"Calculating the demagnetization tensor\")\n",
    "    n_demag = np.zeros([2*i-1 for i in n] + [6])\n",
    "    for i, t in enumerate(((f,0,1,2),(g,0,1,2),(g,0,2,1),(f,1,2,0),(g,1,2,0),(f,2,0,1))):\n",
    "        print(i, t)\n",
    "        set_n_demag_test(i, t[1:], t[0], n_demag=n_demag, dx=dx)\n",
    "\n",
    "    print(n_demag.shape)\n",
    "    np.save(demag_tensor_file, n_demag)\n",
    "    return n_demag"
   ]
  },
  {
   "cell_type": "code",
   "execution_count": 35,
   "metadata": {},
   "outputs": [
    {
     "name": "stdout",
     "output_type": "stream",
     "text": [
      "Calculating the demagnetization tensor\n",
      "Cells : 2500 ; time taken : 0.0h 1.0m 45.198s\n"
     ]
    }
   ],
   "source": [
    "start = time()\n",
    "# a very small number\n",
    "eps = 1.0000000001e-18\n",
    "n     = (100, 25, 1)\n",
    "dx    = (1e-9, 1e-9, 1e-9)\n",
    "calculate_demag_tensor(n, dx, demag_tensor_file=os.path.join(\"demag_calcs\", f\"demag_tensor_({n[0]},{n[1]},{n[2]}).npy\"))\n",
    "time_taken = time() - start\n",
    "print(f\"Cells : {np.prod(n)} ; time taken : {format_time(time_taken)}\")"
   ]
  },
  {
   "cell_type": "code",
   "execution_count": 36,
   "metadata": {},
   "outputs": [
    {
     "name": "stdout",
     "output_type": "stream",
     "text": [
      "Calculating the demagnetization tensor\n",
      "Cells : 5000 ; time taken : 0.0h 3.0m 16.512s\n"
     ]
    }
   ],
   "source": [
    "start = time()\n",
    "# a very small number\n",
    "eps = 1.0000000001e-18\n",
    "n     = (100, 50, 1)\n",
    "dx    = (1e-9, 1e-9, 1e-9)\n",
    "calculate_demag_tensor(n, dx, demag_tensor_file=os.path.join(\"demag_calcs\", f\"demag_tensor_({n[0]},{n[1]},{n[2]}).npy\"))\n",
    "time_taken = time() - start\n",
    "print(f\"Cells : {np.prod(n)} ; time taken : {format_time(time_taken)}\")"
   ]
  },
  {
   "cell_type": "code",
   "execution_count": 37,
   "metadata": {},
   "outputs": [
    {
     "name": "stdout",
     "output_type": "stream",
     "text": [
      "Calculating the demagnetization tensor\n",
      "Cells : 10000 ; time taken : 0.0h 6.0m 38.719s\n"
     ]
    }
   ],
   "source": [
    "start = time()\n",
    "# a very small number\n",
    "eps = 1.0000000001e-18\n",
    "n     = (100, 100, 1)\n",
    "dx    = (1e-9, 1e-9, 1e-9)\n",
    "calculate_demag_tensor(n, dx, demag_tensor_file=os.path.join(\"demag_calcs\", f\"demag_tensor_({n[0]},{n[1]},{n[2]}).npy\"))\n",
    "time_taken = time() - start\n",
    "print(f\"Cells : {np.prod(n)} ; time taken : {format_time(time_taken)}\")"
   ]
  },
  {
   "cell_type": "code",
   "execution_count": 38,
   "metadata": {},
   "outputs": [
    {
     "name": "stdout",
     "output_type": "stream",
     "text": [
      "Calculating the demagnetization tensor\n",
      "Cells : 15000 ; time taken : 0.0h 10.0m 11.344s\n"
     ]
    }
   ],
   "source": [
    "start = time()\n",
    "# a very small number\n",
    "eps = 1.0000000001e-18\n",
    "n     = (100, 150, 1)\n",
    "dx    = (1e-9, 1e-9, 1e-9)\n",
    "calculate_demag_tensor(n, dx, demag_tensor_file=os.path.join(\"demag_calcs\", f\"demag_tensor_({n[0]},{n[1]},{n[2]}).npy\"))\n",
    "time_taken = time() - start\n",
    "print(f\"Cells : {np.prod(n)} ; time taken : {format_time(time_taken)}\")"
   ]
  },
  {
   "cell_type": "code",
   "execution_count": 39,
   "metadata": {},
   "outputs": [
    {
     "name": "stdout",
     "output_type": "stream",
     "text": [
      "Calculating the demagnetization tensor\n",
      "Cells : 20000 ; time taken : 0.0h 13.0m 30.475s\n"
     ]
    }
   ],
   "source": [
    "start = time()\n",
    "# a very small number\n",
    "eps = 1.0000000001e-18\n",
    "n     = (100, 200, 1)\n",
    "dx    = (1e-9, 1e-9, 1e-9)\n",
    "calculate_demag_tensor(n, dx, demag_tensor_file=os.path.join(\"demag_calcs\", f\"demag_tensor_({n[0]},{n[1]},{n[2]}).npy\"))\n",
    "time_taken = time() - start\n",
    "print(f\"Cells : {np.prod(n)} ; time taken : {format_time(time_taken)}\")"
   ]
  },
  {
   "cell_type": "code",
   "execution_count": 41,
   "metadata": {},
   "outputs": [
    {
     "name": "stdout",
     "output_type": "stream",
     "text": [
      "Calculating the demagnetization tensor\n",
      "Cells : 40000 ; time taken : 0.0h 27.0m 9.043s\n"
     ]
    }
   ],
   "source": [
    "start = time()\n",
    "# a very small number\n",
    "eps = 1.00000000001e-18\n",
    "n     = (100, 400, 1)\n",
    "dx    = (1e-9, 1e-9, 1e-9)\n",
    "calculate_demag_tensor(n, dx, demag_tensor_file=os.path.join(\"demag_calcs\", f\"demag_tensor_({n[0]},{n[1]},{n[2]}).npy\"))\n",
    "time_taken = time() - start\n",
    "print(f\"Cells : {np.prod(n)} ; time taken : {format_time(time_taken)}\")"
   ]
  },
  {
   "cell_type": "code",
   "execution_count": null,
   "metadata": {},
   "outputs": [],
   "source": []
  }
 ],
 "metadata": {
  "kernelspec": {
   "display_name": "Python 3",
   "language": "python",
   "name": "python3"
  },
  "language_info": {
   "codemirror_mode": {
    "name": "ipython",
    "version": 3
   },
   "file_extension": ".py",
   "mimetype": "text/x-python",
   "name": "python",
   "nbconvert_exporter": "python",
   "pygments_lexer": "ipython3",
   "version": "3.9.13"
  },
  "orig_nbformat": 4
 },
 "nbformat": 4,
 "nbformat_minor": 2
}
